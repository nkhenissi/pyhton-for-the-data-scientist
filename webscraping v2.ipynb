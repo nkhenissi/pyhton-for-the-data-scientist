{
 "cells": [
  {
   "cell_type": "code",
   "execution_count": 19,
   "id": "821e6bf6",
   "metadata": {},
   "outputs": [],
   "source": [
    "from bs4 import BeautifulSoup\n",
    "import requests\n",
    "import pandas as pd\n",
    "import urllib"
   ]
  },
  {
   "cell_type": "code",
   "execution_count": 20,
   "id": "dc7fab49",
   "metadata": {},
   "outputs": [],
   "source": [
    "url=\"https://immobilier.lefigaro.fr/prix-immobilier/marseille/ville-13055#prix-quartier\""
   ]
  },
  {
   "cell_type": "code",
   "execution_count": 21,
   "id": "ba5f16e4",
   "metadata": {},
   "outputs": [],
   "source": [
    "r = requests.get(url)\n",
    "soup = BeautifulSoup(r.text, 'lxml')"
   ]
  },
  {
   "cell_type": "code",
   "execution_count": 22,
   "id": "0fc56daa",
   "metadata": {},
   "outputs": [
    {
     "name": "stdout",
     "output_type": "stream",
     "text": [
      "<!--Akamai-ESI:PAGE:setreftime=1634118211/-->\n",
      "<!DOCTYPE html>\n",
      "<!--[if IE 8 ]> <html lang=\"fr\" class=\"no-js ie8 lt-ie9 oldie\"> <![endif]-->\n",
      "<!--[if IE 9 ]> <html lang=\"fr\" class=\"no-js ie9\"> <![endif]-->\n",
      "<!--[if (gt IE 9)|!(IE)]><!-->\n",
      "<html class=\"no-js\" lang=\"fr\">\n",
      " <!--<![endif]-->\n",
      " <head prefix=\"og: http://ogp.me/ns# fb: http://ogp.me/ns/fb# \">\n",
      "  <meta charset=\"utf-8\"/>\n",
      "  <meta content=\"ie=edge\" http-equiv=\"x-ua-compatible\"/>\n",
      "  <title>\n",
      "   Prix m2 immobilier à Marseille en décembre 2022 (13000)\n",
      "  </title>\n",
      "  <meta content=\"Quel est le prix du m2 à Marseille (13000) en 2022 pour l'achat/vente ou la location ? Découvrez gratuitement les prix du marché immobilier à Marseille\" name=\"description\"/>\n",
      "  <meta content=\"width=device-width, initial-scale=1.0\" name=\"viewport\"/>\n",
      "  <meta content=\"always\" name=\"referrer\"/>\n",
      "  <meta content=\"summary_large_image\" name=\"twitter:card\"/>\n",
      "  <meta content=\"@Le_Figaro_Immo\" name=\"twitter:site\"/>\n",
      "  <meta content=\"@Le_Figaro_Immo\" name=\"twitter:creator\"/>\n",
      "  <met\n"
     ]
    }
   ],
   "source": [
    "print(soup.prettify()[:1000])"
   ]
  },
  {
   "cell_type": "code",
   "execution_count": 23,
   "id": "9f2baad9",
   "metadata": {},
   "outputs": [
    {
     "name": "stdout",
     "output_type": "stream",
     "text": [
      "<table class=\"odTable odTableAuto\">\n",
      "<thead>\n",
      "<tr>\n",
      "<th class=\"odGradient\" style=\"width: 50%;\">Nombre de pièces</th>\n",
      "<th class=\"odGradient\" style=\"width: 50%;\">Prix au m2</th>\n",
      "</tr>\n",
      "</thead>\n",
      "<tbody>\n",
      "<tr>\n",
      "<td>Studios / 1 pièce</td>\n",
      "<td>4 457 €/m2</td>\n",
      "</tr>\n",
      "<tr>\n",
      "<td>2 pièces</td>\n",
      "<td>4 238 €/m2</td>\n",
      "</tr>\n",
      "<tr>\n",
      "<td>3 pièces</td>\n",
      "<td>3 738 €/m2</td>\n",
      "</tr>\n",
      "<tr>\n",
      "<td>4 pièces</td>\n",
      "<td>4 107 €/m2</td>\n",
      "</tr>\n",
      "<tr>\n",
      "<td>5 pièces</td>\n",
      "<td>4 530 €/m2</td>\n",
      "</tr>\n",
      "<tr>\n",
      "<td>6 pièces</td>\n",
      "<td>4 506 €/m2</td>\n",
      "</tr>\n",
      "<tr>\n",
      "<td>7 pièces et plus</td>\n",
      "<td>3 904 €/m2</td>\n",
      "</tr>\n",
      "</tbody>\n",
      "</table>\n"
     ]
    }
   ],
   "source": [
    "print(soup.find(\"table\"))\n",
    "#que le premier tableau "
   ]
  },
  {
   "cell_type": "code",
   "execution_count": 24,
   "id": "3850e142",
   "metadata": {},
   "outputs": [],
   "source": [
    "tableau_prix = soup.find('table', {'class' : 'odTable odTableAuto'})"
   ]
  },
  {
   "cell_type": "code",
   "execution_count": 25,
   "id": "dbc1f1e1",
   "metadata": {},
   "outputs": [
    {
     "data": {
      "text/plain": [
       "bs4.element.Tag"
      ]
     },
     "execution_count": 25,
     "metadata": {},
     "output_type": "execute_result"
    }
   ],
   "source": [
    "type(tableau_prix)"
   ]
  },
  {
   "cell_type": "code",
   "execution_count": 26,
   "id": "ba020fc5",
   "metadata": {},
   "outputs": [],
   "source": [
    "table_body = tableau_prix.find('tbody')\n",
    "rowss = table_body.find_all('tr')"
   ]
  },
  {
   "cell_type": "code",
   "execution_count": 27,
   "id": "4fae7149",
   "metadata": {},
   "outputs": [
    {
     "name": "stdout",
     "output_type": "stream",
     "text": [
      "<tr>\n",
      "<td>Studios / 1 pièce</td>\n",
      "<td>4 457 €/m2</td>\n",
      "</tr>\n"
     ]
    }
   ],
   "source": [
    "print(rowss[0])"
   ]
  },
  {
   "cell_type": "code",
   "execution_count": 28,
   "id": "b57fc144",
   "metadata": {},
   "outputs": [
    {
     "name": "stdout",
     "output_type": "stream",
     "text": [
      "<tr>\n",
      "<td>2 pièces</td>\n",
      "<td>4 238 €/m2</td>\n",
      "</tr>\n"
     ]
    }
   ],
   "source": [
    "print(rowss[1])"
   ]
  },
  {
   "cell_type": "code",
   "execution_count": 29,
   "id": "29de032a",
   "metadata": {},
   "outputs": [
    {
     "name": "stdout",
     "output_type": "stream",
     "text": [
      "<td>2 pièces</td>\n",
      "2 pièces\n"
     ]
    }
   ],
   "source": [
    "colss = rowss[1].find_all('td')\n",
    "print(colss[0])\n",
    "print(colss[0].text.strip())"
   ]
  },
  {
   "cell_type": "code",
   "execution_count": 30,
   "id": "10676951",
   "metadata": {},
   "outputs": [
    {
     "name": "stdout",
     "output_type": "stream",
     "text": [
      "2 pièces\n",
      "4 238 €/m2\n"
     ]
    }
   ],
   "source": [
    "for ele in colss : \n",
    "    print(ele.text.strip())"
   ]
  },
  {
   "cell_type": "code",
   "execution_count": 31,
   "id": "28dd1601",
   "metadata": {},
   "outputs": [
    {
     "name": "stdout",
     "output_type": "stream",
     "text": [
      "['Studios / 1 pièce', '4\\xa0457 €/m2']\n",
      "['2 pièces', '4\\xa0238 €/m2']\n",
      "['3 pièces', '3\\xa0738 €/m2']\n",
      "['4 pièces', '4\\xa0107 €/m2']\n",
      "['5 pièces', '4\\xa0530 €/m2']\n",
      "['6 pièces', '4\\xa0506 €/m2']\n",
      "['7 pièces et plus', '3\\xa0904 €/m2']\n"
     ]
    }
   ],
   "source": [
    "for row in rowss:\n",
    "    colss = row.find_all('td')\n",
    "    colss = [ele.text.strip() for ele in colss]\n",
    "    print(colss)"
   ]
  },
  {
   "cell_type": "code",
   "execution_count": 32,
   "id": "3ceb9856",
   "metadata": {},
   "outputs": [
    {
     "data": {
      "text/plain": [
       "{'Studios / 1 pièce': ['4\\xa0457 €/m2'],\n",
       " '2 pièces': ['4\\xa0238 €/m2'],\n",
       " '3 pièces': ['3\\xa0738 €/m2'],\n",
       " '4 pièces': ['4\\xa0107 €/m2'],\n",
       " '5 pièces': ['4\\xa0530 €/m2'],\n",
       " '6 pièces': ['4\\xa0506 €/m2'],\n",
       " '7 pièces et plus': ['3\\xa0904 €/m2']}"
      ]
     },
     "execution_count": 32,
     "metadata": {},
     "output_type": "execute_result"
    }
   ],
   "source": [
    "dico_prix = dict()\n",
    "for row in rowss:\n",
    "    colss = row.find_all('td')\n",
    "    colss = [ele.text.strip() for ele in colss]\n",
    "    if len(colss) > 0 : \n",
    "        dico_prix[colss[0]] = colss[1:]\n",
    "dico_prix"
   ]
  },
  {
   "cell_type": "code",
   "execution_count": 35,
   "id": "0d910f08",
   "metadata": {},
   "outputs": [
    {
     "data": {
      "text/html": [
       "<div>\n",
       "<style scoped>\n",
       "    .dataframe tbody tr th:only-of-type {\n",
       "        vertical-align: middle;\n",
       "    }\n",
       "\n",
       "    .dataframe tbody tr th {\n",
       "        vertical-align: top;\n",
       "    }\n",
       "\n",
       "    .dataframe thead th {\n",
       "        text-align: right;\n",
       "    }\n",
       "</style>\n",
       "<table border=\"1\" class=\"dataframe\">\n",
       "  <thead>\n",
       "    <tr style=\"text-align: right;\">\n",
       "      <th></th>\n",
       "      <th>0</th>\n",
       "    </tr>\n",
       "  </thead>\n",
       "  <tbody>\n",
       "    <tr>\n",
       "      <th>Studios / 1 pièce</th>\n",
       "      <td>4 457 €/m2</td>\n",
       "    </tr>\n",
       "    <tr>\n",
       "      <th>2 pièces</th>\n",
       "      <td>4 238 €/m2</td>\n",
       "    </tr>\n",
       "    <tr>\n",
       "      <th>3 pièces</th>\n",
       "      <td>3 738 €/m2</td>\n",
       "    </tr>\n",
       "    <tr>\n",
       "      <th>4 pièces</th>\n",
       "      <td>4 107 €/m2</td>\n",
       "    </tr>\n",
       "    <tr>\n",
       "      <th>5 pièces</th>\n",
       "      <td>4 530 €/m2</td>\n",
       "    </tr>\n",
       "    <tr>\n",
       "      <th>6 pièces</th>\n",
       "      <td>4 506 €/m2</td>\n",
       "    </tr>\n",
       "    <tr>\n",
       "      <th>7 pièces et plus</th>\n",
       "      <td>3 904 €/m2</td>\n",
       "    </tr>\n",
       "  </tbody>\n",
       "</table>\n",
       "</div>"
      ],
      "text/plain": [
       "                            0\n",
       "Studios / 1 pièce  4 457 €/m2\n",
       "2 pièces           4 238 €/m2\n",
       "3 pièces           3 738 €/m2\n",
       "4 pièces           4 107 €/m2\n",
       "5 pièces           4 530 €/m2\n",
       "6 pièces           4 506 €/m2\n",
       "7 pièces et plus   3 904 €/m2"
      ]
     },
     "execution_count": 35,
     "metadata": {},
     "output_type": "execute_result"
    }
   ],
   "source": [
    "data_prix = pd.DataFrame.from_dict(dico_prix,orient='index')\n",
    "data_prix.head(7)"
   ]
  },
  {
   "cell_type": "code",
   "execution_count": 36,
   "id": "6212dc95",
   "metadata": {},
   "outputs": [],
   "source": [
    "#arrondissements\n",
    "arrond=soup.find('div',{'class':\"hidden marB20 view-more__box\"})"
   ]
  },
  {
   "cell_type": "code",
   "execution_count": 37,
   "id": "928b8677",
   "metadata": {},
   "outputs": [],
   "source": [
    "table_body2 = arrond.find('tbody')\n",
    "rowsarr = table_body2.find_all('tr')"
   ]
  },
  {
   "cell_type": "code",
   "execution_count": 38,
   "id": "975732bf",
   "metadata": {},
   "outputs": [
    {
     "name": "stdout",
     "output_type": "stream",
     "text": [
      "<tr>\n",
      "<td><strong><a href=\"https://immobilier.lefigaro.fr/prix-immobilier/marseille-1er-arrondissement/arrondissement-13201\" title=\"prix m2 Marseille 1er Arrondissement\">Marseille 1er Arrondissement</a></strong></td><td>3 610 €/m2</td><td>17 €/m2</td>\n",
      "</tr>\n"
     ]
    }
   ],
   "source": [
    "print(rowsarr[0])"
   ]
  },
  {
   "cell_type": "code",
   "execution_count": 39,
   "id": "0213d40c",
   "metadata": {},
   "outputs": [
    {
     "name": "stdout",
     "output_type": "stream",
     "text": [
      "<tr>\n",
      "<td><strong><a href=\"https://immobilier.lefigaro.fr/prix-immobilier/marseille-2e-arrondissement/arrondissement-13202\" title=\"prix m2 Marseille 2e Arrondissement\">Marseille 2e Arrondissement</a></strong></td><td>3 967 €/m2</td><td>17 €/m2</td>\n",
      "</tr>\n"
     ]
    }
   ],
   "source": [
    "print(rowsarr[1])"
   ]
  },
  {
   "cell_type": "code",
   "execution_count": 40,
   "id": "09dd8045",
   "metadata": {},
   "outputs": [
    {
     "name": "stdout",
     "output_type": "stream",
     "text": [
      "<td><strong><a href=\"https://immobilier.lefigaro.fr/prix-immobilier/marseille-2e-arrondissement/arrondissement-13202\" title=\"prix m2 Marseille 2e Arrondissement\">Marseille 2e Arrondissement</a></strong></td>\n",
      "Marseille 2e Arrondissement\n"
     ]
    }
   ],
   "source": [
    "colsarr = rowsarr[1].find_all('td')\n",
    "print(colsarr[0])\n",
    "print(colsarr[0].text.strip())"
   ]
  },
  {
   "cell_type": "code",
   "execution_count": 41,
   "id": "5149642b",
   "metadata": {},
   "outputs": [
    {
     "name": "stdout",
     "output_type": "stream",
     "text": [
      "Marseille 2e Arrondissement\n",
      "3 967 €/m2\n",
      "17 €/m2\n"
     ]
    }
   ],
   "source": [
    "for ele in colsarr : \n",
    "    print(ele.text.strip())"
   ]
  },
  {
   "cell_type": "code",
   "execution_count": 42,
   "id": "e2d11586",
   "metadata": {},
   "outputs": [
    {
     "name": "stdout",
     "output_type": "stream",
     "text": [
      "['Marseille 1er Arrondissement', '3\\xa0610 €/m2', '17 €/m2']\n",
      "['Marseille 2e Arrondissement', '3\\xa0967 €/m2', '17 €/m2']\n",
      "['Marseille 3e Arrondissement', '2\\xa0171 €/m2', '16 €/m2']\n",
      "['Marseille 4e Arrondissement', '3\\xa0321 €/m2', '16 €/m2']\n",
      "['Marseille 5e Arrondissement', '3\\xa0784 €/m2', '18 €/m2']\n",
      "['Marseille 6e Arrondissement', '4\\xa0316 €/m2', '18 €/m2']\n",
      "['Marseille 7e Arrondissement', '5\\xa0603 €/m2', '19 €/m2']\n",
      "['Marseille 8e Arrondissement', '5\\xa0686 €/m2', '18 €/m2']\n",
      "['Marseille 9e Arrondissement', '4\\xa0529 €/m2', '17 €/m2']\n",
      "['Marseille 10e Arrondissement', '3\\xa0531 €/m2', '16 €/m2']\n",
      "['Marseille 11e Arrondissement', '4\\xa0264 €/m2', '16 €/m2']\n",
      "['Marseille 12e Arrondissement', '4\\xa0447 €/m2', '16 €/m2']\n",
      "['Marseille 13e Arrondissement', '3\\xa0781 €/m2', '16 €/m2']\n",
      "['Marseille 14e Arrondissement', '2\\xa0517 €/m2', '14 €/m2']\n",
      "['Marseille 15e Arrondissement', '2\\xa0269 €/m2', '14 €/m2']\n",
      "['Marseille 16e Arrondissement', '3\\xa0222 €/m2', '16 €/m2']\n"
     ]
    }
   ],
   "source": [
    "for row in rowsarr:\n",
    "    colsarr = row.find_all('td')\n",
    "    colsarr = [ele.text.strip() for ele in colsarr]\n",
    "    print(colsarr)"
   ]
  },
  {
   "cell_type": "code",
   "execution_count": 43,
   "id": "6a8ebc8e",
   "metadata": {},
   "outputs": [
    {
     "data": {
      "text/plain": [
       "{'Marseille 1er Arrondissement': ['3\\xa0610 €/m2', '17 €/m2'],\n",
       " 'Marseille 2e Arrondissement': ['3\\xa0967 €/m2', '17 €/m2'],\n",
       " 'Marseille 3e Arrondissement': ['2\\xa0171 €/m2', '16 €/m2'],\n",
       " 'Marseille 4e Arrondissement': ['3\\xa0321 €/m2', '16 €/m2'],\n",
       " 'Marseille 5e Arrondissement': ['3\\xa0784 €/m2', '18 €/m2'],\n",
       " 'Marseille 6e Arrondissement': ['4\\xa0316 €/m2', '18 €/m2'],\n",
       " 'Marseille 7e Arrondissement': ['5\\xa0603 €/m2', '19 €/m2'],\n",
       " 'Marseille 8e Arrondissement': ['5\\xa0686 €/m2', '18 €/m2'],\n",
       " 'Marseille 9e Arrondissement': ['4\\xa0529 €/m2', '17 €/m2'],\n",
       " 'Marseille 10e Arrondissement': ['3\\xa0531 €/m2', '16 €/m2'],\n",
       " 'Marseille 11e Arrondissement': ['4\\xa0264 €/m2', '16 €/m2'],\n",
       " 'Marseille 12e Arrondissement': ['4\\xa0447 €/m2', '16 €/m2'],\n",
       " 'Marseille 13e Arrondissement': ['3\\xa0781 €/m2', '16 €/m2'],\n",
       " 'Marseille 14e Arrondissement': ['2\\xa0517 €/m2', '14 €/m2'],\n",
       " 'Marseille 15e Arrondissement': ['2\\xa0269 €/m2', '14 €/m2'],\n",
       " 'Marseille 16e Arrondissement': ['3\\xa0222 €/m2', '16 €/m2']}"
      ]
     },
     "execution_count": 43,
     "metadata": {},
     "output_type": "execute_result"
    }
   ],
   "source": [
    "dico_arr = dict()\n",
    "for row in rowsarr:\n",
    "    colsarr = row.find_all('td')\n",
    "    colsarr = [ele.text.strip() for ele in colsarr]\n",
    "    if len(colsarr) > 0 : \n",
    "        dico_arr[colsarr[0]] = colsarr[1:]\n",
    "dico_arr"
   ]
  },
  {
   "cell_type": "code",
   "execution_count": 45,
   "id": "b86a5080",
   "metadata": {},
   "outputs": [],
   "source": [
    "data_arr = pd.DataFrame.from_dict(dico_arr,orient='index')"
   ]
  },
  {
   "cell_type": "code",
   "execution_count": 46,
   "id": "71af97ec",
   "metadata": {},
   "outputs": [
    {
     "data": {
      "text/html": [
       "<div>\n",
       "<style scoped>\n",
       "    .dataframe tbody tr th:only-of-type {\n",
       "        vertical-align: middle;\n",
       "    }\n",
       "\n",
       "    .dataframe tbody tr th {\n",
       "        vertical-align: top;\n",
       "    }\n",
       "\n",
       "    .dataframe thead th {\n",
       "        text-align: right;\n",
       "    }\n",
       "</style>\n",
       "<table border=\"1\" class=\"dataframe\">\n",
       "  <thead>\n",
       "    <tr style=\"text-align: right;\">\n",
       "      <th></th>\n",
       "      <th>0</th>\n",
       "      <th>1</th>\n",
       "    </tr>\n",
       "  </thead>\n",
       "  <tbody>\n",
       "    <tr>\n",
       "      <th>Marseille 1er Arrondissement</th>\n",
       "      <td>3 610 €/m2</td>\n",
       "      <td>17 €/m2</td>\n",
       "    </tr>\n",
       "    <tr>\n",
       "      <th>Marseille 2e Arrondissement</th>\n",
       "      <td>3 967 €/m2</td>\n",
       "      <td>17 €/m2</td>\n",
       "    </tr>\n",
       "    <tr>\n",
       "      <th>Marseille 3e Arrondissement</th>\n",
       "      <td>2 171 €/m2</td>\n",
       "      <td>16 €/m2</td>\n",
       "    </tr>\n",
       "    <tr>\n",
       "      <th>Marseille 4e Arrondissement</th>\n",
       "      <td>3 321 €/m2</td>\n",
       "      <td>16 €/m2</td>\n",
       "    </tr>\n",
       "    <tr>\n",
       "      <th>Marseille 5e Arrondissement</th>\n",
       "      <td>3 784 €/m2</td>\n",
       "      <td>18 €/m2</td>\n",
       "    </tr>\n",
       "    <tr>\n",
       "      <th>Marseille 6e Arrondissement</th>\n",
       "      <td>4 316 €/m2</td>\n",
       "      <td>18 €/m2</td>\n",
       "    </tr>\n",
       "    <tr>\n",
       "      <th>Marseille 7e Arrondissement</th>\n",
       "      <td>5 603 €/m2</td>\n",
       "      <td>19 €/m2</td>\n",
       "    </tr>\n",
       "    <tr>\n",
       "      <th>Marseille 8e Arrondissement</th>\n",
       "      <td>5 686 €/m2</td>\n",
       "      <td>18 €/m2</td>\n",
       "    </tr>\n",
       "    <tr>\n",
       "      <th>Marseille 9e Arrondissement</th>\n",
       "      <td>4 529 €/m2</td>\n",
       "      <td>17 €/m2</td>\n",
       "    </tr>\n",
       "    <tr>\n",
       "      <th>Marseille 10e Arrondissement</th>\n",
       "      <td>3 531 €/m2</td>\n",
       "      <td>16 €/m2</td>\n",
       "    </tr>\n",
       "    <tr>\n",
       "      <th>Marseille 11e Arrondissement</th>\n",
       "      <td>4 264 €/m2</td>\n",
       "      <td>16 €/m2</td>\n",
       "    </tr>\n",
       "    <tr>\n",
       "      <th>Marseille 12e Arrondissement</th>\n",
       "      <td>4 447 €/m2</td>\n",
       "      <td>16 €/m2</td>\n",
       "    </tr>\n",
       "    <tr>\n",
       "      <th>Marseille 13e Arrondissement</th>\n",
       "      <td>3 781 €/m2</td>\n",
       "      <td>16 €/m2</td>\n",
       "    </tr>\n",
       "    <tr>\n",
       "      <th>Marseille 14e Arrondissement</th>\n",
       "      <td>2 517 €/m2</td>\n",
       "      <td>14 €/m2</td>\n",
       "    </tr>\n",
       "    <tr>\n",
       "      <th>Marseille 15e Arrondissement</th>\n",
       "      <td>2 269 €/m2</td>\n",
       "      <td>14 €/m2</td>\n",
       "    </tr>\n",
       "    <tr>\n",
       "      <th>Marseille 16e Arrondissement</th>\n",
       "      <td>3 222 €/m2</td>\n",
       "      <td>16 €/m2</td>\n",
       "    </tr>\n",
       "  </tbody>\n",
       "</table>\n",
       "</div>"
      ],
      "text/plain": [
       "                                       0        1\n",
       "Marseille 1er Arrondissement  3 610 €/m2  17 €/m2\n",
       "Marseille 2e Arrondissement   3 967 €/m2  17 €/m2\n",
       "Marseille 3e Arrondissement   2 171 €/m2  16 €/m2\n",
       "Marseille 4e Arrondissement   3 321 €/m2  16 €/m2\n",
       "Marseille 5e Arrondissement   3 784 €/m2  18 €/m2\n",
       "Marseille 6e Arrondissement   4 316 €/m2  18 €/m2\n",
       "Marseille 7e Arrondissement   5 603 €/m2  19 €/m2\n",
       "Marseille 8e Arrondissement   5 686 €/m2  18 €/m2\n",
       "Marseille 9e Arrondissement   4 529 €/m2  17 €/m2\n",
       "Marseille 10e Arrondissement  3 531 €/m2  16 €/m2\n",
       "Marseille 11e Arrondissement  4 264 €/m2  16 €/m2\n",
       "Marseille 12e Arrondissement  4 447 €/m2  16 €/m2\n",
       "Marseille 13e Arrondissement  3 781 €/m2  16 €/m2\n",
       "Marseille 14e Arrondissement  2 517 €/m2  14 €/m2\n",
       "Marseille 15e Arrondissement  2 269 €/m2  14 €/m2\n",
       "Marseille 16e Arrondissement  3 222 €/m2  16 €/m2"
      ]
     },
     "execution_count": 46,
     "metadata": {},
     "output_type": "execute_result"
    }
   ],
   "source": [
    "data_arr.head(16)"
   ]
  },
  {
   "cell_type": "code",
   "execution_count": null,
   "id": "a6b52a1a",
   "metadata": {},
   "outputs": [],
   "source": []
  }
 ],
 "metadata": {
  "kernelspec": {
   "display_name": "Python 3",
   "language": "python",
   "name": "python3"
  },
  "language_info": {
   "codemirror_mode": {
    "name": "ipython",
    "version": 3
   },
   "file_extension": ".py",
   "mimetype": "text/x-python",
   "name": "python",
   "nbconvert_exporter": "python",
   "pygments_lexer": "ipython3",
   "version": "3.8.8"
  }
 },
 "nbformat": 4,
 "nbformat_minor": 5
}
