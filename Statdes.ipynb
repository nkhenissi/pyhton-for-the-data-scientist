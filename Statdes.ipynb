{
 "cells": [
  {
   "cell_type": "code",
   "execution_count": null,
   "id": "386d8f43-018c-4b05-935d-b4da41d0843b",
   "metadata": {},
   "outputs": [],
   "source": [
    "%run '~/work/pyhton-for-the-data-scientist/Data/DVF.ipynb'"
   ]
  },
  {
   "cell_type": "code",
   "execution_count": 165,
   "id": "e73e5adf-3831-4a0c-aace-7dcb71e94b9e",
   "metadata": {},
   "outputs": [],
   "source": [
    "df_DVF=df4"
   ]
  },
  {
   "cell_type": "markdown",
   "id": "419d67b6-0eca-4096-aebc-c092f571fdf7",
   "metadata": {
    "tags": []
   },
   "source": [
    "# Statistique descriptive exploratoire\n",
    "\n",
    "On cherche d'abord à manipuler les bases de données en notre possession de manière très descriptive pour tirer des premiers enseignements des données disponibles"
   ]
  },
  {
   "cell_type": "markdown",
   "id": "08b228af-bc6e-4563-9d98-04687854307c",
   "metadata": {},
   "source": [
    "> ## Prix constatés de DVF\n",
    "\n",
    "On s'intéresse d'abord aux prix déclarés et disponibles sur le site de DVF (Demande de valeurs foncières). Ce sont des prix pour l'année 2021 concernant les transactions à Marseille."
   ]
  },
  {
   "cell_type": "code",
   "execution_count": 84,
   "id": "36fb5525-48c9-4f2d-add8-9ebd0145c7e4",
   "metadata": {},
   "outputs": [
    {
     "data": {
      "text/html": [
       "<div>\n",
       "<style scoped>\n",
       "    .dataframe tbody tr th:only-of-type {\n",
       "        vertical-align: middle;\n",
       "    }\n",
       "\n",
       "    .dataframe tbody tr th {\n",
       "        vertical-align: top;\n",
       "    }\n",
       "\n",
       "    .dataframe thead th {\n",
       "        text-align: right;\n",
       "    }\n",
       "</style>\n",
       "<table border=\"1\" class=\"dataframe\">\n",
       "  <thead>\n",
       "    <tr style=\"text-align: right;\">\n",
       "      <th></th>\n",
       "      <th>Valeur fonciere</th>\n",
       "      <th>Surface reelle bati</th>\n",
       "      <th>Surface terrain</th>\n",
       "    </tr>\n",
       "  </thead>\n",
       "  <tbody>\n",
       "    <tr>\n",
       "      <th>count</th>\n",
       "      <td>2490.00</td>\n",
       "      <td>2490.00</td>\n",
       "      <td>2490.00</td>\n",
       "    </tr>\n",
       "    <tr>\n",
       "      <th>mean</th>\n",
       "      <td>496234.09</td>\n",
       "      <td>71.71</td>\n",
       "      <td>271.02</td>\n",
       "    </tr>\n",
       "    <tr>\n",
       "      <th>std</th>\n",
       "      <td>328444.16</td>\n",
       "      <td>44.18</td>\n",
       "      <td>769.20</td>\n",
       "    </tr>\n",
       "    <tr>\n",
       "      <th>min</th>\n",
       "      <td>30000.00</td>\n",
       "      <td>1.00</td>\n",
       "      <td>0.00</td>\n",
       "    </tr>\n",
       "    <tr>\n",
       "      <th>25%</th>\n",
       "      <td>270000.00</td>\n",
       "      <td>37.00</td>\n",
       "      <td>0.00</td>\n",
       "    </tr>\n",
       "    <tr>\n",
       "      <th>50%</th>\n",
       "      <td>404975.00</td>\n",
       "      <td>63.00</td>\n",
       "      <td>74.00</td>\n",
       "    </tr>\n",
       "    <tr>\n",
       "      <th>75%</th>\n",
       "      <td>638000.00</td>\n",
       "      <td>96.75</td>\n",
       "      <td>400.00</td>\n",
       "    </tr>\n",
       "    <tr>\n",
       "      <th>max</th>\n",
       "      <td>2000000.00</td>\n",
       "      <td>410.00</td>\n",
       "      <td>20528.00</td>\n",
       "    </tr>\n",
       "  </tbody>\n",
       "</table>\n",
       "</div>"
      ],
      "text/plain": [
       "       Valeur fonciere  Surface reelle bati  Surface terrain\n",
       "count          2490.00              2490.00          2490.00\n",
       "mean         496234.09                71.71           271.02\n",
       "std          328444.16                44.18           769.20\n",
       "min           30000.00                 1.00             0.00\n",
       "25%          270000.00                37.00             0.00\n",
       "50%          404975.00                63.00            74.00\n",
       "75%          638000.00                96.75           400.00\n",
       "max         2000000.00               410.00         20528.00"
      ]
     },
     "execution_count": 84,
     "metadata": {},
     "output_type": "execute_result"
    }
   ],
   "source": [
    "round(df_DVF.describe(),2)"
   ]
  },
  {
   "cell_type": "markdown",
   "id": "437ce252-4e04-43b6-ac57-dd0affcd4ee8",
   "metadata": {},
   "source": [
    "Notre jeu de données comporte 2745 individus. On se concentre sur 3 variables :\n",
    "- La **valeur foncière** : Un bien appartement ou une maison vendu en 2021 à Marseille valait en moyenne 1 519 152€. On peut soupçonner que ce prix élevé est dû à des valeurs extrêmes, notamment en remarquant que la valeur maximale des ventes était de 15 000 000€, et en notant la forte disparité entre moyenne et médiane (450 000€ environ). La variance de la valeur foncière est énorme : les prix sont éclatés et ne suivent en effet pas du tout une loi normale.\n",
    "- La **surface bâtie** : Un bien immobilier bâti vendu à Marseille en 2021 faisait en moyenne 69 $m{^2}$, et la médiane est de 59 $m{^2}$. La variance de la surface bâtie est beaucoup moins élevée que pour la valeur foncière.\n",
    "- La **surface du terrain** : Les terrains vendus à Marseille en 2021 faisaient en moyenne 427 $m{^2}$. On peut soupçonner ici aussi que cette moyenne est tirée vers le haut par des valeurs extrèmes."
   ]
  },
  {
   "cell_type": "code",
   "execution_count": 71,
   "id": "c20fd48a-b7f8-4c2b-b71f-b067ed62e0ea",
   "metadata": {},
   "outputs": [],
   "source": [
    "import scipy.stats.mstats as mstats"
   ]
  },
  {
   "cell_type": "markdown",
   "id": "353046d5-c2f8-4242-b1d2-6807346269f2",
   "metadata": {},
   "source": [
    "Représentons maintenant le prix moyen constaté du $m{^2}$ à la vente à Marseille en 2021 en fonction des arrondissements :"
   ]
  },
  {
   "cell_type": "code",
   "execution_count": 296,
   "id": "7ea22d6e-6098-4f8b-8663-7b8ca510e282",
   "metadata": {},
   "outputs": [
    {
     "data": {
      "text/html": [
       "<div>\n",
       "<style scoped>\n",
       "    .dataframe tbody tr th:only-of-type {\n",
       "        vertical-align: middle;\n",
       "    }\n",
       "\n",
       "    .dataframe tbody tr th {\n",
       "        vertical-align: top;\n",
       "    }\n",
       "\n",
       "    .dataframe thead th {\n",
       "        text-align: right;\n",
       "    }\n",
       "</style>\n",
       "<table border=\"1\" class=\"dataframe\">\n",
       "  <thead>\n",
       "    <tr style=\"text-align: right;\">\n",
       "      <th></th>\n",
       "      <th>Commune</th>\n",
       "      <th>Valeur fonciere</th>\n",
       "      <th>Surface reelle bati</th>\n",
       "      <th>Surface terrain</th>\n",
       "    </tr>\n",
       "  </thead>\n",
       "  <tbody>\n",
       "    <tr>\n",
       "      <th>0</th>\n",
       "      <td>MARSEILLE 10EME</td>\n",
       "      <td>379440.37</td>\n",
       "      <td>53.16</td>\n",
       "      <td>144.89</td>\n",
       "    </tr>\n",
       "    <tr>\n",
       "      <th>1</th>\n",
       "      <td>MARSEILLE 11EME</td>\n",
       "      <td>450296.80</td>\n",
       "      <td>92.59</td>\n",
       "      <td>516.33</td>\n",
       "    </tr>\n",
       "    <tr>\n",
       "      <th>2</th>\n",
       "      <td>MARSEILLE 12EME</td>\n",
       "      <td>554832.93</td>\n",
       "      <td>91.26</td>\n",
       "      <td>603.85</td>\n",
       "    </tr>\n",
       "    <tr>\n",
       "      <th>3</th>\n",
       "      <td>MARSEILLE 13EME</td>\n",
       "      <td>393898.43</td>\n",
       "      <td>90.90</td>\n",
       "      <td>467.35</td>\n",
       "    </tr>\n",
       "    <tr>\n",
       "      <th>4</th>\n",
       "      <td>MARSEILLE 14EME</td>\n",
       "      <td>267443.44</td>\n",
       "      <td>73.90</td>\n",
       "      <td>327.04</td>\n",
       "    </tr>\n",
       "    <tr>\n",
       "      <th>5</th>\n",
       "      <td>MARSEILLE 15EME</td>\n",
       "      <td>283375.44</td>\n",
       "      <td>64.27</td>\n",
       "      <td>243.00</td>\n",
       "    </tr>\n",
       "    <tr>\n",
       "      <th>6</th>\n",
       "      <td>MARSEILLE 16EME</td>\n",
       "      <td>268873.62</td>\n",
       "      <td>65.80</td>\n",
       "      <td>204.32</td>\n",
       "    </tr>\n",
       "    <tr>\n",
       "      <th>7</th>\n",
       "      <td>MARSEILLE 1ER</td>\n",
       "      <td>763347.41</td>\n",
       "      <td>50.26</td>\n",
       "      <td>0.00</td>\n",
       "    </tr>\n",
       "    <tr>\n",
       "      <th>8</th>\n",
       "      <td>MARSEILLE 2EME</td>\n",
       "      <td>397568.70</td>\n",
       "      <td>57.43</td>\n",
       "      <td>18.70</td>\n",
       "    </tr>\n",
       "    <tr>\n",
       "      <th>9</th>\n",
       "      <td>MARSEILLE 3EME</td>\n",
       "      <td>443669.64</td>\n",
       "      <td>37.12</td>\n",
       "      <td>23.32</td>\n",
       "    </tr>\n",
       "    <tr>\n",
       "      <th>10</th>\n",
       "      <td>MARSEILLE 4EME</td>\n",
       "      <td>388764.48</td>\n",
       "      <td>55.02</td>\n",
       "      <td>91.14</td>\n",
       "    </tr>\n",
       "    <tr>\n",
       "      <th>11</th>\n",
       "      <td>MARSEILLE 5EME</td>\n",
       "      <td>557377.78</td>\n",
       "      <td>52.22</td>\n",
       "      <td>31.73</td>\n",
       "    </tr>\n",
       "    <tr>\n",
       "      <th>12</th>\n",
       "      <td>MARSEILLE 6EME</td>\n",
       "      <td>894512.61</td>\n",
       "      <td>51.47</td>\n",
       "      <td>13.71</td>\n",
       "    </tr>\n",
       "    <tr>\n",
       "      <th>13</th>\n",
       "      <td>MARSEILLE 7EME</td>\n",
       "      <td>760260.61</td>\n",
       "      <td>84.32</td>\n",
       "      <td>205.34</td>\n",
       "    </tr>\n",
       "    <tr>\n",
       "      <th>14</th>\n",
       "      <td>MARSEILLE 8EME</td>\n",
       "      <td>767673.39</td>\n",
       "      <td>89.19</td>\n",
       "      <td>224.33</td>\n",
       "    </tr>\n",
       "    <tr>\n",
       "      <th>15</th>\n",
       "      <td>MARSEILLE 9EME</td>\n",
       "      <td>606752.63</td>\n",
       "      <td>84.05</td>\n",
       "      <td>296.57</td>\n",
       "    </tr>\n",
       "  </tbody>\n",
       "</table>\n",
       "</div>"
      ],
      "text/plain": [
       "            Commune  Valeur fonciere  Surface reelle bati  Surface terrain\n",
       "0   MARSEILLE 10EME        379440.37                53.16           144.89\n",
       "1   MARSEILLE 11EME        450296.80                92.59           516.33\n",
       "2   MARSEILLE 12EME        554832.93                91.26           603.85\n",
       "3   MARSEILLE 13EME        393898.43                90.90           467.35\n",
       "4   MARSEILLE 14EME        267443.44                73.90           327.04\n",
       "5   MARSEILLE 15EME        283375.44                64.27           243.00\n",
       "6   MARSEILLE 16EME        268873.62                65.80           204.32\n",
       "7     MARSEILLE 1ER        763347.41                50.26             0.00\n",
       "8    MARSEILLE 2EME        397568.70                57.43            18.70\n",
       "9    MARSEILLE 3EME        443669.64                37.12            23.32\n",
       "10   MARSEILLE 4EME        388764.48                55.02            91.14\n",
       "11   MARSEILLE 5EME        557377.78                52.22            31.73\n",
       "12   MARSEILLE 6EME        894512.61                51.47            13.71\n",
       "13   MARSEILLE 7EME        760260.61                84.32           205.34\n",
       "14   MARSEILLE 8EME        767673.39                89.19           224.33\n",
       "15   MARSEILLE 9EME        606752.63                84.05           296.57"
      ]
     },
     "execution_count": 296,
     "metadata": {},
     "output_type": "execute_result"
    }
   ],
   "source": [
    "DVFmoy=df_DVF.groupby(\"Commune\", as_index=False).mean(numeric_only=True)\n",
    "round(DVFmoy, 2)"
   ]
  },
  {
   "cell_type": "code",
   "execution_count": 297,
   "id": "477d6925-69dc-4d0f-9a2e-b763465ffec6",
   "metadata": {},
   "outputs": [
    {
     "data": {
      "text/html": [
       "<div>\n",
       "<style scoped>\n",
       "    .dataframe tbody tr th:only-of-type {\n",
       "        vertical-align: middle;\n",
       "    }\n",
       "\n",
       "    .dataframe tbody tr th {\n",
       "        vertical-align: top;\n",
       "    }\n",
       "\n",
       "    .dataframe thead th {\n",
       "        text-align: right;\n",
       "    }\n",
       "</style>\n",
       "<table border=\"1\" class=\"dataframe\">\n",
       "  <thead>\n",
       "    <tr style=\"text-align: right;\">\n",
       "      <th></th>\n",
       "      <th>Commune</th>\n",
       "      <th>Valeur fonciere</th>\n",
       "      <th>Surface reelle bati</th>\n",
       "      <th>Surface terrain</th>\n",
       "    </tr>\n",
       "  </thead>\n",
       "  <tbody>\n",
       "    <tr>\n",
       "      <th>7</th>\n",
       "      <td>MARSEILLE 1ER</td>\n",
       "      <td>763347.413793</td>\n",
       "      <td>50.258621</td>\n",
       "      <td>0.000000</td>\n",
       "    </tr>\n",
       "    <tr>\n",
       "      <th>8</th>\n",
       "      <td>MARSEILLE 2EME</td>\n",
       "      <td>397568.695652</td>\n",
       "      <td>57.434783</td>\n",
       "      <td>18.695652</td>\n",
       "    </tr>\n",
       "    <tr>\n",
       "      <th>9</th>\n",
       "      <td>MARSEILLE 3EME</td>\n",
       "      <td>443669.638889</td>\n",
       "      <td>37.122222</td>\n",
       "      <td>23.316667</td>\n",
       "    </tr>\n",
       "    <tr>\n",
       "      <th>10</th>\n",
       "      <td>MARSEILLE 4EME</td>\n",
       "      <td>388764.483051</td>\n",
       "      <td>55.016949</td>\n",
       "      <td>91.135593</td>\n",
       "    </tr>\n",
       "    <tr>\n",
       "      <th>11</th>\n",
       "      <td>MARSEILLE 5EME</td>\n",
       "      <td>557377.776699</td>\n",
       "      <td>52.223301</td>\n",
       "      <td>31.728155</td>\n",
       "    </tr>\n",
       "    <tr>\n",
       "      <th>12</th>\n",
       "      <td>MARSEILLE 6EME</td>\n",
       "      <td>894512.611940</td>\n",
       "      <td>51.470149</td>\n",
       "      <td>13.708955</td>\n",
       "    </tr>\n",
       "    <tr>\n",
       "      <th>13</th>\n",
       "      <td>MARSEILLE 7EME</td>\n",
       "      <td>760260.605042</td>\n",
       "      <td>84.319328</td>\n",
       "      <td>205.344538</td>\n",
       "    </tr>\n",
       "    <tr>\n",
       "      <th>14</th>\n",
       "      <td>MARSEILLE 8EME</td>\n",
       "      <td>767673.385659</td>\n",
       "      <td>89.193798</td>\n",
       "      <td>224.333333</td>\n",
       "    </tr>\n",
       "    <tr>\n",
       "      <th>15</th>\n",
       "      <td>MARSEILLE 9EME</td>\n",
       "      <td>606752.630573</td>\n",
       "      <td>84.050955</td>\n",
       "      <td>296.573248</td>\n",
       "    </tr>\n",
       "    <tr>\n",
       "      <th>0</th>\n",
       "      <td>MARSEILLE 10EME</td>\n",
       "      <td>379440.370690</td>\n",
       "      <td>53.163793</td>\n",
       "      <td>144.887931</td>\n",
       "    </tr>\n",
       "    <tr>\n",
       "      <th>1</th>\n",
       "      <td>MARSEILLE 11EME</td>\n",
       "      <td>450296.802120</td>\n",
       "      <td>92.593640</td>\n",
       "      <td>516.332155</td>\n",
       "    </tr>\n",
       "    <tr>\n",
       "      <th>2</th>\n",
       "      <td>MARSEILLE 12EME</td>\n",
       "      <td>554832.928246</td>\n",
       "      <td>91.257463</td>\n",
       "      <td>603.847015</td>\n",
       "    </tr>\n",
       "    <tr>\n",
       "      <th>3</th>\n",
       "      <td>MARSEILLE 13EME</td>\n",
       "      <td>393898.429268</td>\n",
       "      <td>90.897561</td>\n",
       "      <td>467.346341</td>\n",
       "    </tr>\n",
       "    <tr>\n",
       "      <th>4</th>\n",
       "      <td>MARSEILLE 14EME</td>\n",
       "      <td>267443.437500</td>\n",
       "      <td>73.895833</td>\n",
       "      <td>327.041667</td>\n",
       "    </tr>\n",
       "    <tr>\n",
       "      <th>5</th>\n",
       "      <td>MARSEILLE 15EME</td>\n",
       "      <td>283375.443689</td>\n",
       "      <td>64.268608</td>\n",
       "      <td>243.000000</td>\n",
       "    </tr>\n",
       "    <tr>\n",
       "      <th>6</th>\n",
       "      <td>MARSEILLE 16EME</td>\n",
       "      <td>268873.619403</td>\n",
       "      <td>65.798507</td>\n",
       "      <td>204.320896</td>\n",
       "    </tr>\n",
       "  </tbody>\n",
       "</table>\n",
       "</div>"
      ],
      "text/plain": [
       "            Commune  Valeur fonciere  Surface reelle bati  Surface terrain\n",
       "7     MARSEILLE 1ER    763347.413793            50.258621         0.000000\n",
       "8    MARSEILLE 2EME    397568.695652            57.434783        18.695652\n",
       "9    MARSEILLE 3EME    443669.638889            37.122222        23.316667\n",
       "10   MARSEILLE 4EME    388764.483051            55.016949        91.135593\n",
       "11   MARSEILLE 5EME    557377.776699            52.223301        31.728155\n",
       "12   MARSEILLE 6EME    894512.611940            51.470149        13.708955\n",
       "13   MARSEILLE 7EME    760260.605042            84.319328       205.344538\n",
       "14   MARSEILLE 8EME    767673.385659            89.193798       224.333333\n",
       "15   MARSEILLE 9EME    606752.630573            84.050955       296.573248\n",
       "0   MARSEILLE 10EME    379440.370690            53.163793       144.887931\n",
       "1   MARSEILLE 11EME    450296.802120            92.593640       516.332155\n",
       "2   MARSEILLE 12EME    554832.928246            91.257463       603.847015\n",
       "3   MARSEILLE 13EME    393898.429268            90.897561       467.346341\n",
       "4   MARSEILLE 14EME    267443.437500            73.895833       327.041667\n",
       "5   MARSEILLE 15EME    283375.443689            64.268608       243.000000\n",
       "6   MARSEILLE 16EME    268873.619403            65.798507       204.320896"
      ]
     },
     "execution_count": 297,
     "metadata": {},
     "output_type": "execute_result"
    }
   ],
   "source": [
    "DVFmoy['sort'] = DVFmoy['Commune'].str.extract('(\\d+)', expand=False).astype(int)\n",
    "DVFmoy.sort_values('sort',inplace=True, ascending=True)\n",
    "DVFmoy=DVFmoy.drop('sort', axis=1)\n",
    "DVFmoy"
   ]
  },
  {
   "cell_type": "code",
   "execution_count": 298,
   "id": "dca3724a-0ea6-4b7e-8a56-95a250ff083c",
   "metadata": {},
   "outputs": [],
   "source": [
    "DVFmoy[\"Prix au m2\"]=DVFmoy['Valeur fonciere']/DVFmoy['Surface reelle bati']\n",
    "DVFmoy=round(DVFmoy, 2)"
   ]
  },
  {
   "cell_type": "code",
   "execution_count": 299,
   "id": "f5ddb59a-e500-49a5-acaa-682b2aa0033a",
   "metadata": {},
   "outputs": [],
   "source": [
    "import matplotlib.pyplot as plt\n",
    "import seaborn as sns"
   ]
  },
  {
   "cell_type": "code",
   "execution_count": 301,
   "id": "c7fb0473-1472-46a3-acb8-a303caa9e768",
   "metadata": {},
   "outputs": [
    {
     "data": {
      "text/plain": [
       "<Figure size 1600x800 with 0 Axes>"
      ]
     },
     "metadata": {},
     "output_type": "display_data"
    },
    {
     "data": {
      "image/png": "[encoded data removed]",
      "text/plain": [
       "<Figure size 1000x500 with 1 Axes>"
      ]
     },
     "metadata": {},
     "output_type": "display_data"
    }
   ],
   "source": [
    "plt.figure(figsize=(16,8))\n",
    "sns.catplot(data=DVFmoy.sort_values(\"Prix au m2\", ascending=False), x='Prix au m2', y='Commune', kind='bar', aspect=2, legend='Prix au m2 comprenant les terrains')\n",
    "plt.show()"
   ]
  },
  {
   "cell_type": "markdown",
   "id": "736b3a5b-8f26-4cca-896d-37a49d34afec",
   "metadata": {},
   "source": [
    "Ainsi, les biens immobiliers construits dont le prix de vente au $m{^2}$ était lee plus élevé en 2021 se situent dans les premiers arrondissements de Marseille, en particulier le 6ème, le 1er, le 3ème et le 5ème."
   ]
  },
  {
   "cell_type": "markdown",
   "id": "723e310b-a2bf-4f04-a61e-698380a1c0c3",
   "metadata": {},
   "source": [
    "> ## Analyse croisée avec les données scrappées"
   ]
  },
  {
   "cell_type": "markdown",
   "id": "e26f570a-7b17-4913-a676-805b415aa95c",
   "metadata": {},
   "source": [
    "On cherche à déterminer si nos deux jeux de données ne se contredisent pas et sont pertinents. Pour cela, on calcule la matrice de corrélation entre les deux jeux"
   ]
  },
  {
   "cell_type": "code",
   "execution_count": 205,
   "id": "cb821fe7-c94c-41af-8a5d-2db2c66b4574",
   "metadata": {},
   "outputs": [
    {
     "name": "stderr",
     "output_type": "stream",
     "text": [
      "/tmp/ipykernel_1008/2781322810.py:3: FutureWarning: In a future version of pandas all arguments of DataFrame.drop except for the argument 'labels' will be keyword-only.\n",
      "  data_arrtest=data_arrtest.drop('loyer m2', 1)\n"
     ]
    },
    {
     "data": {
      "text/html": [
       "<div>\n",
       "<style scoped>\n",
       "    .dataframe tbody tr th:only-of-type {\n",
       "        vertical-align: middle;\n",
       "    }\n",
       "\n",
       "    .dataframe tbody tr th {\n",
       "        vertical-align: top;\n",
       "    }\n",
       "\n",
       "    .dataframe thead th {\n",
       "        text-align: right;\n",
       "    }\n",
       "</style>\n",
       "<table border=\"1\" class=\"dataframe\">\n",
       "  <thead>\n",
       "    <tr style=\"text-align: right;\">\n",
       "      <th></th>\n",
       "      <th>Unnamed: 0</th>\n",
       "      <th>prix m2</th>\n",
       "    </tr>\n",
       "  </thead>\n",
       "  <tbody>\n",
       "    <tr>\n",
       "      <th>0</th>\n",
       "      <td>Marseille 1er Arrondissement</td>\n",
       "      <td>3 610 €/m2</td>\n",
       "    </tr>\n",
       "    <tr>\n",
       "      <th>1</th>\n",
       "      <td>Marseille 2e Arrondissement</td>\n",
       "      <td>3 967 €/m2</td>\n",
       "    </tr>\n",
       "    <tr>\n",
       "      <th>2</th>\n",
       "      <td>Marseille 3e Arrondissement</td>\n",
       "      <td>2 171 €/m2</td>\n",
       "    </tr>\n",
       "    <tr>\n",
       "      <th>3</th>\n",
       "      <td>Marseille 4e Arrondissement</td>\n",
       "      <td>3 321 €/m2</td>\n",
       "    </tr>\n",
       "    <tr>\n",
       "      <th>4</th>\n",
       "      <td>Marseille 5e Arrondissement</td>\n",
       "      <td>3 784 €/m2</td>\n",
       "    </tr>\n",
       "    <tr>\n",
       "      <th>5</th>\n",
       "      <td>Marseille 6e Arrondissement</td>\n",
       "      <td>4 316 €/m2</td>\n",
       "    </tr>\n",
       "    <tr>\n",
       "      <th>6</th>\n",
       "      <td>Marseille 7e Arrondissement</td>\n",
       "      <td>5 603 €/m2</td>\n",
       "    </tr>\n",
       "    <tr>\n",
       "      <th>7</th>\n",
       "      <td>Marseille 8e Arrondissement</td>\n",
       "      <td>5 686 €/m2</td>\n",
       "    </tr>\n",
       "    <tr>\n",
       "      <th>8</th>\n",
       "      <td>Marseille 9e Arrondissement</td>\n",
       "      <td>4 529 €/m2</td>\n",
       "    </tr>\n",
       "    <tr>\n",
       "      <th>9</th>\n",
       "      <td>Marseille 10e Arrondissement</td>\n",
       "      <td>3 531 €/m2</td>\n",
       "    </tr>\n",
       "    <tr>\n",
       "      <th>10</th>\n",
       "      <td>Marseille 11e Arrondissement</td>\n",
       "      <td>4 264 €/m2</td>\n",
       "    </tr>\n",
       "    <tr>\n",
       "      <th>11</th>\n",
       "      <td>Marseille 12e Arrondissement</td>\n",
       "      <td>4 447 €/m2</td>\n",
       "    </tr>\n",
       "    <tr>\n",
       "      <th>12</th>\n",
       "      <td>Marseille 13e Arrondissement</td>\n",
       "      <td>3 781 €/m2</td>\n",
       "    </tr>\n",
       "    <tr>\n",
       "      <th>13</th>\n",
       "      <td>Marseille 14e Arrondissement</td>\n",
       "      <td>2 517 €/m2</td>\n",
       "    </tr>\n",
       "    <tr>\n",
       "      <th>14</th>\n",
       "      <td>Marseille 15e Arrondissement</td>\n",
       "      <td>2 269 €/m2</td>\n",
       "    </tr>\n",
       "    <tr>\n",
       "      <th>15</th>\n",
       "      <td>Marseille 16e Arrondissement</td>\n",
       "      <td>3 222 €/m2</td>\n",
       "    </tr>\n",
       "  </tbody>\n",
       "</table>\n",
       "</div>"
      ],
      "text/plain": [
       "                      Unnamed: 0     prix m2\n",
       "0   Marseille 1er Arrondissement  3 610 €/m2\n",
       "1    Marseille 2e Arrondissement  3 967 €/m2\n",
       "2    Marseille 3e Arrondissement  2 171 €/m2\n",
       "3    Marseille 4e Arrondissement  3 321 €/m2\n",
       "4    Marseille 5e Arrondissement  3 784 €/m2\n",
       "5    Marseille 6e Arrondissement  4 316 €/m2\n",
       "6    Marseille 7e Arrondissement  5 603 €/m2\n",
       "7    Marseille 8e Arrondissement  5 686 €/m2\n",
       "8    Marseille 9e Arrondissement  4 529 €/m2\n",
       "9   Marseille 10e Arrondissement  3 531 €/m2\n",
       "10  Marseille 11e Arrondissement  4 264 €/m2\n",
       "11  Marseille 12e Arrondissement  4 447 €/m2\n",
       "12  Marseille 13e Arrondissement  3 781 €/m2\n",
       "13  Marseille 14e Arrondissement  2 517 €/m2\n",
       "14  Marseille 15e Arrondissement  2 269 €/m2\n",
       "15  Marseille 16e Arrondissement  3 222 €/m2"
      ]
     },
     "execution_count": 205,
     "metadata": {},
     "output_type": "execute_result"
    }
   ],
   "source": [
    "data_arrtest=pd.read_csv(\"~/work/pyhton-for-the-data-scientist/Data/data_arrtest.csv\", \n",
    "                         dtype={'prix m2':str, 'loyer m2':str})\n",
    "data_arrtest=data_arrtest.drop('loyer m2', 1)\n",
    "data_arrtest"
   ]
  },
  {
   "cell_type": "code",
   "execution_count": 272,
   "id": "16e6aef9-73c2-4c87-ab5e-9aaf1c8cef71",
   "metadata": {},
   "outputs": [
    {
     "data": {
      "text/html": [
       "<div>\n",
       "<style scoped>\n",
       "    .dataframe tbody tr th:only-of-type {\n",
       "        vertical-align: middle;\n",
       "    }\n",
       "\n",
       "    .dataframe tbody tr th {\n",
       "        vertical-align: top;\n",
       "    }\n",
       "\n",
       "    .dataframe thead th {\n",
       "        text-align: right;\n",
       "    }\n",
       "</style>\n",
       "<table border=\"1\" class=\"dataframe\">\n",
       "  <thead>\n",
       "    <tr style=\"text-align: right;\">\n",
       "      <th></th>\n",
       "      <th>prix m2</th>\n",
       "      <th>Prix au m2</th>\n",
       "    </tr>\n",
       "  </thead>\n",
       "  <tbody>\n",
       "    <tr>\n",
       "      <th>0</th>\n",
       "      <td>3 610 €/m2</td>\n",
       "      <td>7137.20</td>\n",
       "    </tr>\n",
       "    <tr>\n",
       "      <th>1</th>\n",
       "      <td>3 967 €/m2</td>\n",
       "      <td>4863.15</td>\n",
       "    </tr>\n",
       "    <tr>\n",
       "      <th>2</th>\n",
       "      <td>2 171 €/m2</td>\n",
       "      <td>6079.86</td>\n",
       "    </tr>\n",
       "    <tr>\n",
       "      <th>3</th>\n",
       "      <td>3 321 €/m2</td>\n",
       "      <td>4333.43</td>\n",
       "    </tr>\n",
       "    <tr>\n",
       "      <th>4</th>\n",
       "      <td>3 784 €/m2</td>\n",
       "      <td>3619.20</td>\n",
       "    </tr>\n",
       "    <tr>\n",
       "      <th>5</th>\n",
       "      <td>4 316 €/m2</td>\n",
       "      <td>4409.24</td>\n",
       "    </tr>\n",
       "    <tr>\n",
       "      <th>6</th>\n",
       "      <td>5 603 €/m2</td>\n",
       "      <td>4086.32</td>\n",
       "    </tr>\n",
       "    <tr>\n",
       "      <th>7</th>\n",
       "      <td>5 686 €/m2</td>\n",
       "      <td>15188.39</td>\n",
       "    </tr>\n",
       "    <tr>\n",
       "      <th>8</th>\n",
       "      <td>4 529 €/m2</td>\n",
       "      <td>6922.09</td>\n",
       "    </tr>\n",
       "    <tr>\n",
       "      <th>9</th>\n",
       "      <td>3 531 €/m2</td>\n",
       "      <td>11951.59</td>\n",
       "    </tr>\n",
       "    <tr>\n",
       "      <th>10</th>\n",
       "      <td>4 264 €/m2</td>\n",
       "      <td>7066.27</td>\n",
       "    </tr>\n",
       "    <tr>\n",
       "      <th>11</th>\n",
       "      <td>4 447 €/m2</td>\n",
       "      <td>10672.97</td>\n",
       "    </tr>\n",
       "    <tr>\n",
       "      <th>12</th>\n",
       "      <td>3 781 €/m2</td>\n",
       "      <td>17379.25</td>\n",
       "    </tr>\n",
       "    <tr>\n",
       "      <th>13</th>\n",
       "      <td>2 517 €/m2</td>\n",
       "      <td>9016.45</td>\n",
       "    </tr>\n",
       "    <tr>\n",
       "      <th>14</th>\n",
       "      <td>2 269 €/m2</td>\n",
       "      <td>8606.80</td>\n",
       "    </tr>\n",
       "    <tr>\n",
       "      <th>15</th>\n",
       "      <td>3 222 €/m2</td>\n",
       "      <td>7218.87</td>\n",
       "    </tr>\n",
       "  </tbody>\n",
       "</table>\n",
       "</div>"
      ],
      "text/plain": [
       "       prix m2  Prix au m2\n",
       "0   3 610 €/m2     7137.20\n",
       "1   3 967 €/m2     4863.15\n",
       "2   2 171 €/m2     6079.86\n",
       "3   3 321 €/m2     4333.43\n",
       "4   3 784 €/m2     3619.20\n",
       "5   4 316 €/m2     4409.24\n",
       "6   5 603 €/m2     4086.32\n",
       "7   5 686 €/m2    15188.39\n",
       "8   4 529 €/m2     6922.09\n",
       "9   3 531 €/m2    11951.59\n",
       "10  4 264 €/m2     7066.27\n",
       "11  4 447 €/m2    10672.97\n",
       "12  3 781 €/m2    17379.25\n",
       "13  2 517 €/m2     9016.45\n",
       "14  2 269 €/m2     8606.80\n",
       "15  3 222 €/m2     7218.87"
      ]
     },
     "execution_count": 272,
     "metadata": {},
     "output_type": "execute_result"
    }
   ],
   "source": [
    "dfmix=pd.concat([data_arrtest['prix m2'],DVFmoy['Prix au m2']], axis=1)\n",
    "pd.DataFrame(dfmix)"
   ]
  },
  {
   "cell_type": "code",
   "execution_count": 330,
   "id": "c3861ad9-8fd1-49c0-a63e-43ec14da3cc8",
   "metadata": {},
   "outputs": [
    {
     "data": {
      "text/plain": [
       "prix m2    object\n",
       "dtype: object"
      ]
     },
     "execution_count": 330,
     "metadata": {},
     "output_type": "execute_result"
    }
   ],
   "source": [
    "dff=pd.DataFrame(dfmix['prix m2'].str.split('€', expand=True)[0])\n",
    "dff=dff.rename(columns={0:'prix m2'})\n",
    "dff.dtypes"
   ]
  },
  {
   "cell_type": "code",
   "execution_count": 334,
   "id": "d397212a-5553-492e-b4ee-506e16080ce5",
   "metadata": {},
   "outputs": [
    {
     "data": {
      "text/plain": [
       "prix m2    object\n",
       "dtype: object"
      ]
     },
     "execution_count": 334,
     "metadata": {},
     "output_type": "execute_result"
    }
   ],
   "source": [
    "dfff=pd.DataFrame(dff['prix m2'].str.replace(' ',''))\n",
    "dfff"
   ]
  },
  {
   "cell_type": "code",
   "execution_count": 336,
   "id": "5a48a997-f688-4619-abc6-5770a045703f",
   "metadata": {},
   "outputs": [
    {
     "ename": "TypeError",
     "evalue": "unhashable type: 'Series'",
     "output_type": "error",
     "traceback": [
      "\u001b[0;31m---------------------------------------------------------------------------\u001b[0m",
      "\u001b[0;31mTypeError\u001b[0m                                 Traceback (most recent call last)",
      "Cell \u001b[0;32mIn [336], line 1\u001b[0m\n\u001b[0;32m----> 1\u001b[0m dfmix\u001b[38;5;241m=\u001b[39mpd\u001b[38;5;241m.\u001b[39mconcat([dff,DVFmoy[\u001b[38;5;124m'\u001b[39m\u001b[38;5;124mPrix au m2\u001b[39m\u001b[38;5;124m'\u001b[39m]], axis\u001b[38;5;241m=\u001b[39m\u001b[38;5;241m1\u001b[39m)\u001b[38;5;241m.\u001b[39mastype({dff[\u001b[38;5;124m'\u001b[39m\u001b[38;5;124mprix m2\u001b[39m\u001b[38;5;124m'\u001b[39m]:\u001b[38;5;28mfloat\u001b[39m})\n\u001b[1;32m      2\u001b[0m dfmix\n",
      "\u001b[0;31mTypeError\u001b[0m: unhashable type: 'Series'"
     ]
    }
   ],
   "source": [
    "dfmix=pd.concat([dff,DVFmoy['Prix au m2']], axis=1).astype({dff['prix m2']:float})\n",
    "dfmix"
   ]
  },
  {
   "cell_type": "code",
   "execution_count": 312,
   "id": "2860ed9d-8bc9-4efe-930c-8ce33e74c1f4",
   "metadata": {},
   "outputs": [
    {
     "ename": "TypeError",
     "evalue": "unsupported operand type(s) for /: 'str' and 'int'",
     "output_type": "error",
     "traceback": [
      "\u001b[0;31m---------------------------------------------------------------------------\u001b[0m",
      "\u001b[0;31mTypeError\u001b[0m                                 Traceback (most recent call last)",
      "Cell \u001b[0;32mIn [312], line 1\u001b[0m\n\u001b[0;32m----> 1\u001b[0m \u001b[43mdfmix\u001b[49m\u001b[43m[\u001b[49m\u001b[38;5;124;43m'\u001b[39;49m\u001b[38;5;124;43mprix m2\u001b[39;49m\u001b[38;5;124;43m'\u001b[39;49m\u001b[43m]\u001b[49m\u001b[38;5;241;43m.\u001b[39;49m\u001b[43mcorr\u001b[49m\u001b[43m(\u001b[49m\u001b[43mdfmix\u001b[49m\u001b[43m[\u001b[49m\u001b[38;5;124;43m'\u001b[39;49m\u001b[38;5;124;43mPrix au m2\u001b[39;49m\u001b[38;5;124;43m'\u001b[39;49m\u001b[43m]\u001b[49m\u001b[43m)\u001b[49m\n",
      "File \u001b[0;32m/opt/mamba/lib/python3.10/site-packages/pandas/core/series.py:2760\u001b[0m, in \u001b[0;36mSeries.corr\u001b[0;34m(self, other, method, min_periods)\u001b[0m\n\u001b[1;32m   2757\u001b[0m     \u001b[38;5;28;01mreturn\u001b[39;00m np\u001b[38;5;241m.\u001b[39mnan\n\u001b[1;32m   2759\u001b[0m \u001b[38;5;28;01mif\u001b[39;00m method \u001b[38;5;129;01min\u001b[39;00m [\u001b[38;5;124m\"\u001b[39m\u001b[38;5;124mpearson\u001b[39m\u001b[38;5;124m\"\u001b[39m, \u001b[38;5;124m\"\u001b[39m\u001b[38;5;124mspearman\u001b[39m\u001b[38;5;124m\"\u001b[39m, \u001b[38;5;124m\"\u001b[39m\u001b[38;5;124mkendall\u001b[39m\u001b[38;5;124m\"\u001b[39m] \u001b[38;5;129;01mor\u001b[39;00m callable(method):\n\u001b[0;32m-> 2760\u001b[0m     \u001b[38;5;28;01mreturn\u001b[39;00m \u001b[43mnanops\u001b[49m\u001b[38;5;241;43m.\u001b[39;49m\u001b[43mnancorr\u001b[49m\u001b[43m(\u001b[49m\n\u001b[1;32m   2761\u001b[0m \u001b[43m        \u001b[49m\u001b[43mthis\u001b[49m\u001b[38;5;241;43m.\u001b[39;49m\u001b[43mvalues\u001b[49m\u001b[43m,\u001b[49m\u001b[43m \u001b[49m\u001b[43mother\u001b[49m\u001b[38;5;241;43m.\u001b[39;49m\u001b[43mvalues\u001b[49m\u001b[43m,\u001b[49m\u001b[43m \u001b[49m\u001b[43mmethod\u001b[49m\u001b[38;5;241;43m=\u001b[39;49m\u001b[43mmethod\u001b[49m\u001b[43m,\u001b[49m\u001b[43m \u001b[49m\u001b[43mmin_periods\u001b[49m\u001b[38;5;241;43m=\u001b[39;49m\u001b[43mmin_periods\u001b[49m\n\u001b[1;32m   2762\u001b[0m \u001b[43m    \u001b[49m\u001b[43m)\u001b[49m\n\u001b[1;32m   2764\u001b[0m \u001b[38;5;28;01mraise\u001b[39;00m \u001b[38;5;167;01mValueError\u001b[39;00m(\n\u001b[1;32m   2765\u001b[0m     \u001b[38;5;124m\"\u001b[39m\u001b[38;5;124mmethod must be either \u001b[39m\u001b[38;5;124m'\u001b[39m\u001b[38;5;124mpearson\u001b[39m\u001b[38;5;124m'\u001b[39m\u001b[38;5;124m, \u001b[39m\u001b[38;5;124m\"\u001b[39m\n\u001b[1;32m   2766\u001b[0m     \u001b[38;5;124m\"\u001b[39m\u001b[38;5;124m'\u001b[39m\u001b[38;5;124mspearman\u001b[39m\u001b[38;5;124m'\u001b[39m\u001b[38;5;124m, \u001b[39m\u001b[38;5;124m'\u001b[39m\u001b[38;5;124mkendall\u001b[39m\u001b[38;5;124m'\u001b[39m\u001b[38;5;124m, or a callable, \u001b[39m\u001b[38;5;124m\"\u001b[39m\n\u001b[1;32m   2767\u001b[0m     \u001b[38;5;124mf\u001b[39m\u001b[38;5;124m\"\u001b[39m\u001b[38;5;124m'\u001b[39m\u001b[38;5;132;01m{\u001b[39;00mmethod\u001b[38;5;132;01m}\u001b[39;00m\u001b[38;5;124m'\u001b[39m\u001b[38;5;124m was supplied\u001b[39m\u001b[38;5;124m\"\u001b[39m\n\u001b[1;32m   2768\u001b[0m )\n",
      "File \u001b[0;32m/opt/mamba/lib/python3.10/site-packages/pandas/core/nanops.py:93\u001b[0m, in \u001b[0;36mdisallow.__call__.<locals>._f\u001b[0;34m(*args, **kwargs)\u001b[0m\n\u001b[1;32m     91\u001b[0m \u001b[38;5;28;01mtry\u001b[39;00m:\n\u001b[1;32m     92\u001b[0m     \u001b[38;5;28;01mwith\u001b[39;00m np\u001b[38;5;241m.\u001b[39merrstate(invalid\u001b[38;5;241m=\u001b[39m\u001b[38;5;124m\"\u001b[39m\u001b[38;5;124mignore\u001b[39m\u001b[38;5;124m\"\u001b[39m):\n\u001b[0;32m---> 93\u001b[0m         \u001b[38;5;28;01mreturn\u001b[39;00m \u001b[43mf\u001b[49m\u001b[43m(\u001b[49m\u001b[38;5;241;43m*\u001b[39;49m\u001b[43margs\u001b[49m\u001b[43m,\u001b[49m\u001b[43m \u001b[49m\u001b[38;5;241;43m*\u001b[39;49m\u001b[38;5;241;43m*\u001b[39;49m\u001b[43mkwargs\u001b[49m\u001b[43m)\u001b[49m\n\u001b[1;32m     94\u001b[0m \u001b[38;5;28;01mexcept\u001b[39;00m \u001b[38;5;167;01mValueError\u001b[39;00m \u001b[38;5;28;01mas\u001b[39;00m e:\n\u001b[1;32m     95\u001b[0m     \u001b[38;5;66;03m# we want to transform an object array\u001b[39;00m\n\u001b[1;32m     96\u001b[0m     \u001b[38;5;66;03m# ValueError message to the more typical TypeError\u001b[39;00m\n\u001b[1;32m     97\u001b[0m     \u001b[38;5;66;03m# e.g. this is normally a disallowed function on\u001b[39;00m\n\u001b[1;32m     98\u001b[0m     \u001b[38;5;66;03m# object arrays that contain strings\u001b[39;00m\n\u001b[1;32m     99\u001b[0m     \u001b[38;5;28;01mif\u001b[39;00m is_object_dtype(args[\u001b[38;5;241m0\u001b[39m]):\n",
      "File \u001b[0;32m/opt/mamba/lib/python3.10/site-packages/pandas/core/nanops.py:1554\u001b[0m, in \u001b[0;36mnancorr\u001b[0;34m(a, b, method, min_periods)\u001b[0m\n\u001b[1;32m   1551\u001b[0m     \u001b[38;5;28;01mreturn\u001b[39;00m np\u001b[38;5;241m.\u001b[39mnan\n\u001b[1;32m   1553\u001b[0m f \u001b[38;5;241m=\u001b[39m get_corr_func(method)\n\u001b[0;32m-> 1554\u001b[0m \u001b[38;5;28;01mreturn\u001b[39;00m \u001b[43mf\u001b[49m\u001b[43m(\u001b[49m\u001b[43ma\u001b[49m\u001b[43m,\u001b[49m\u001b[43m \u001b[49m\u001b[43mb\u001b[49m\u001b[43m)\u001b[49m\n",
      "File \u001b[0;32m/opt/mamba/lib/python3.10/site-packages/pandas/core/nanops.py:1575\u001b[0m, in \u001b[0;36mget_corr_func.<locals>.func\u001b[0;34m(a, b)\u001b[0m\n\u001b[1;32m   1574\u001b[0m \u001b[38;5;28;01mdef\u001b[39;00m \u001b[38;5;21mfunc\u001b[39m(a, b):\n\u001b[0;32m-> 1575\u001b[0m     \u001b[38;5;28;01mreturn\u001b[39;00m \u001b[43mnp\u001b[49m\u001b[38;5;241;43m.\u001b[39;49m\u001b[43mcorrcoef\u001b[49m\u001b[43m(\u001b[49m\u001b[43ma\u001b[49m\u001b[43m,\u001b[49m\u001b[43m \u001b[49m\u001b[43mb\u001b[49m\u001b[43m)\u001b[49m[\u001b[38;5;241m0\u001b[39m, \u001b[38;5;241m1\u001b[39m]\n",
      "File \u001b[0;32m<__array_function__ internals>:180\u001b[0m, in \u001b[0;36mcorrcoef\u001b[0;34m(*args, **kwargs)\u001b[0m\n",
      "File \u001b[0;32m/opt/mamba/lib/python3.10/site-packages/numpy/lib/function_base.py:2845\u001b[0m, in \u001b[0;36mcorrcoef\u001b[0;34m(x, y, rowvar, bias, ddof, dtype)\u001b[0m\n\u001b[1;32m   2841\u001b[0m \u001b[38;5;28;01mif\u001b[39;00m bias \u001b[38;5;129;01mis\u001b[39;00m \u001b[38;5;129;01mnot\u001b[39;00m np\u001b[38;5;241m.\u001b[39m_NoValue \u001b[38;5;129;01mor\u001b[39;00m ddof \u001b[38;5;129;01mis\u001b[39;00m \u001b[38;5;129;01mnot\u001b[39;00m np\u001b[38;5;241m.\u001b[39m_NoValue:\n\u001b[1;32m   2842\u001b[0m     \u001b[38;5;66;03m# 2015-03-15, 1.10\u001b[39;00m\n\u001b[1;32m   2843\u001b[0m     warnings\u001b[38;5;241m.\u001b[39mwarn(\u001b[38;5;124m'\u001b[39m\u001b[38;5;124mbias and ddof have no effect and are deprecated\u001b[39m\u001b[38;5;124m'\u001b[39m,\n\u001b[1;32m   2844\u001b[0m                   \u001b[38;5;167;01mDeprecationWarning\u001b[39;00m, stacklevel\u001b[38;5;241m=\u001b[39m\u001b[38;5;241m3\u001b[39m)\n\u001b[0;32m-> 2845\u001b[0m c \u001b[38;5;241m=\u001b[39m \u001b[43mcov\u001b[49m\u001b[43m(\u001b[49m\u001b[43mx\u001b[49m\u001b[43m,\u001b[49m\u001b[43m \u001b[49m\u001b[43my\u001b[49m\u001b[43m,\u001b[49m\u001b[43m \u001b[49m\u001b[43mrowvar\u001b[49m\u001b[43m,\u001b[49m\u001b[43m \u001b[49m\u001b[43mdtype\u001b[49m\u001b[38;5;241;43m=\u001b[39;49m\u001b[43mdtype\u001b[49m\u001b[43m)\u001b[49m\n\u001b[1;32m   2846\u001b[0m \u001b[38;5;28;01mtry\u001b[39;00m:\n\u001b[1;32m   2847\u001b[0m     d \u001b[38;5;241m=\u001b[39m diag(c)\n",
      "File \u001b[0;32m<__array_function__ internals>:180\u001b[0m, in \u001b[0;36mcov\u001b[0;34m(*args, **kwargs)\u001b[0m\n",
      "File \u001b[0;32m/opt/mamba/lib/python3.10/site-packages/numpy/lib/function_base.py:2680\u001b[0m, in \u001b[0;36mcov\u001b[0;34m(m, y, rowvar, bias, ddof, fweights, aweights, dtype)\u001b[0m\n\u001b[1;32m   2677\u001b[0m     \u001b[38;5;28;01melse\u001b[39;00m:\n\u001b[1;32m   2678\u001b[0m         w \u001b[38;5;241m*\u001b[39m\u001b[38;5;241m=\u001b[39m aweights\n\u001b[0;32m-> 2680\u001b[0m avg, w_sum \u001b[38;5;241m=\u001b[39m \u001b[43maverage\u001b[49m\u001b[43m(\u001b[49m\u001b[43mX\u001b[49m\u001b[43m,\u001b[49m\u001b[43m \u001b[49m\u001b[43maxis\u001b[49m\u001b[38;5;241;43m=\u001b[39;49m\u001b[38;5;241;43m1\u001b[39;49m\u001b[43m,\u001b[49m\u001b[43m \u001b[49m\u001b[43mweights\u001b[49m\u001b[38;5;241;43m=\u001b[39;49m\u001b[43mw\u001b[49m\u001b[43m,\u001b[49m\u001b[43m \u001b[49m\u001b[43mreturned\u001b[49m\u001b[38;5;241;43m=\u001b[39;49m\u001b[38;5;28;43;01mTrue\u001b[39;49;00m\u001b[43m)\u001b[49m\n\u001b[1;32m   2681\u001b[0m w_sum \u001b[38;5;241m=\u001b[39m w_sum[\u001b[38;5;241m0\u001b[39m]\n\u001b[1;32m   2683\u001b[0m \u001b[38;5;66;03m# Determine the normalization\u001b[39;00m\n",
      "File \u001b[0;32m<__array_function__ internals>:180\u001b[0m, in \u001b[0;36maverage\u001b[0;34m(*args, **kwargs)\u001b[0m\n",
      "File \u001b[0;32m/opt/mamba/lib/python3.10/site-packages/numpy/lib/function_base.py:518\u001b[0m, in \u001b[0;36maverage\u001b[0;34m(a, axis, weights, returned, keepdims)\u001b[0m\n\u001b[1;32m    515\u001b[0m     keepdims_kw \u001b[38;5;241m=\u001b[39m {\u001b[38;5;124m'\u001b[39m\u001b[38;5;124mkeepdims\u001b[39m\u001b[38;5;124m'\u001b[39m: keepdims}\n\u001b[1;32m    517\u001b[0m \u001b[38;5;28;01mif\u001b[39;00m weights \u001b[38;5;129;01mis\u001b[39;00m \u001b[38;5;28;01mNone\u001b[39;00m:\n\u001b[0;32m--> 518\u001b[0m     avg \u001b[38;5;241m=\u001b[39m \u001b[43ma\u001b[49m\u001b[38;5;241;43m.\u001b[39;49m\u001b[43mmean\u001b[49m\u001b[43m(\u001b[49m\u001b[43maxis\u001b[49m\u001b[43m,\u001b[49m\u001b[43m \u001b[49m\u001b[38;5;241;43m*\u001b[39;49m\u001b[38;5;241;43m*\u001b[39;49m\u001b[43mkeepdims_kw\u001b[49m\u001b[43m)\u001b[49m\n\u001b[1;32m    519\u001b[0m     scl \u001b[38;5;241m=\u001b[39m avg\u001b[38;5;241m.\u001b[39mdtype\u001b[38;5;241m.\u001b[39mtype(a\u001b[38;5;241m.\u001b[39msize\u001b[38;5;241m/\u001b[39mavg\u001b[38;5;241m.\u001b[39msize)\n\u001b[1;32m    520\u001b[0m \u001b[38;5;28;01melse\u001b[39;00m:\n",
      "File \u001b[0;32m/opt/mamba/lib/python3.10/site-packages/numpy/core/_methods.py:182\u001b[0m, in \u001b[0;36m_mean\u001b[0;34m(a, axis, dtype, out, keepdims, where)\u001b[0m\n\u001b[1;32m    180\u001b[0m ret \u001b[38;5;241m=\u001b[39m umr_sum(arr, axis, dtype, out, keepdims, where\u001b[38;5;241m=\u001b[39mwhere)\n\u001b[1;32m    181\u001b[0m \u001b[38;5;28;01mif\u001b[39;00m \u001b[38;5;28misinstance\u001b[39m(ret, mu\u001b[38;5;241m.\u001b[39mndarray):\n\u001b[0;32m--> 182\u001b[0m     ret \u001b[38;5;241m=\u001b[39m \u001b[43mum\u001b[49m\u001b[38;5;241;43m.\u001b[39;49m\u001b[43mtrue_divide\u001b[49m\u001b[43m(\u001b[49m\n\u001b[1;32m    183\u001b[0m \u001b[43m            \u001b[49m\u001b[43mret\u001b[49m\u001b[43m,\u001b[49m\u001b[43m \u001b[49m\u001b[43mrcount\u001b[49m\u001b[43m,\u001b[49m\u001b[43m \u001b[49m\u001b[43mout\u001b[49m\u001b[38;5;241;43m=\u001b[39;49m\u001b[43mret\u001b[49m\u001b[43m,\u001b[49m\u001b[43m \u001b[49m\u001b[43mcasting\u001b[49m\u001b[38;5;241;43m=\u001b[39;49m\u001b[38;5;124;43m'\u001b[39;49m\u001b[38;5;124;43munsafe\u001b[39;49m\u001b[38;5;124;43m'\u001b[39;49m\u001b[43m,\u001b[49m\u001b[43m \u001b[49m\u001b[43msubok\u001b[49m\u001b[38;5;241;43m=\u001b[39;49m\u001b[38;5;28;43;01mFalse\u001b[39;49;00m\u001b[43m)\u001b[49m\n\u001b[1;32m    184\u001b[0m     \u001b[38;5;28;01mif\u001b[39;00m is_float16_result \u001b[38;5;129;01mand\u001b[39;00m out \u001b[38;5;129;01mis\u001b[39;00m \u001b[38;5;28;01mNone\u001b[39;00m:\n\u001b[1;32m    185\u001b[0m         ret \u001b[38;5;241m=\u001b[39m arr\u001b[38;5;241m.\u001b[39mdtype\u001b[38;5;241m.\u001b[39mtype(ret)\n",
      "\u001b[0;31mTypeError\u001b[0m: unsupported operand type(s) for /: 'str' and 'int'"
     ]
    }
   ],
   "source": [
    "dfmix['prix m2'].corr(dfmix['Prix au m2'])"
   ]
  },
  {
   "cell_type": "code",
   "execution_count": 303,
   "id": "8faa31d2-71d7-4c6d-9c91-ad48242a7c63",
   "metadata": {},
   "outputs": [
    {
     "name": "stderr",
     "output_type": "stream",
     "text": [
      "/tmp/ipykernel_1008/1262782662.py:1: FutureWarning: The default value of numeric_only in DataFrame.corr is deprecated. In a future version, it will default to False. Select only valid columns or specify the value of numeric_only to silence this warning.\n",
      "  Corr = sns.heatmap(dfmix.corr(), cmap='coolwarm', annot=True, fmt=\".2f\")\n"
     ]
    },
    {
     "data": {
      "image/png": "[encoded data removed]",
      "text/plain": [
       "<Figure size 640x480 with 2 Axes>"
      ]
     },
     "metadata": {},
     "output_type": "display_data"
    }
   ],
   "source": [
    "Corr = sns.heatmap(dfmix.corr(), cmap='coolwarm', annot=True, fmt=\".2f\")"
   ]
  },
  {
   "cell_type": "code",
   "execution_count": null,
   "id": "3fb4d248-3e78-4a98-8d37-93cd67ed4f6c",
   "metadata": {},
   "outputs": [],
   "source": []
  }
 ],
 "metadata": {
  "kernelspec": {
   "display_name": "Python 3 (ipykernel)",
   "language": "python",
   "name": "python3"
  },
  "language_info": {
   "codemirror_mode": {
    "name": "ipython",
    "version": 3
   },
   "file_extension": ".py",
   "mimetype": "text/x-python",
   "name": "python",
   "nbconvert_exporter": "python",
   "pygments_lexer": "ipython3",
   "version": "3.10.4"
  }
 },
 "nbformat": 4,
 "nbformat_minor": 5
}
