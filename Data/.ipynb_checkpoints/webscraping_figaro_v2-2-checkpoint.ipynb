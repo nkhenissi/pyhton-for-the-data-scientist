{
 "cells": [
  {
   "cell_type": "code",
   "execution_count": 59,
   "id": "8859313a",
   "metadata": {},
   "outputs": [],
   "source": [
    "from bs4 import BeautifulSoup\n",
    "import requests\n",
    "import pandas as pd\n",
    "import urllib"
   ]
  },
  {
   "cell_type": "code",
   "execution_count": 60,
   "id": "7ca74f14",
   "metadata": {},
   "outputs": [],
   "source": [
    "url=\"https://immobilier.lefigaro.fr/prix-immobilier/marseille/ville-13055#prix-quartier\""
   ]
  },
  {
   "cell_type": "code",
   "execution_count": 61,
   "id": "d72e8eb4",
   "metadata": {},
   "outputs": [],
   "source": [
    "r = requests.get(url)\n",
    "soup = BeautifulSoup(r.text, 'lxml')"
   ]
  },
  {
   "cell_type": "code",
   "execution_count": 62,
   "id": "abed02f6",
   "metadata": {},
   "outputs": [
    {
     "name": "stdout",
     "output_type": "stream",
     "text": [
      "<table class=\"odTable odTableAuto\">\n",
      "<thead>\n",
      "<tr>\n",
      "<th class=\"odGradient\" style=\"width: 50%;\">Nombre de pièces</th>\n",
      "<th class=\"odGradient\" style=\"width: 50%;\">Prix au m2</th>\n",
      "</tr>\n",
      "</thead>\n",
      "<tbody>\n",
      "<tr>\n",
      "<td>Studios / 1 pièce</td>\n",
      "<td>4 457 €/m2</td>\n",
      "</tr>\n",
      "<tr>\n",
      "<td>2 pièces</td>\n",
      "<td>4 238 €/m2</td>\n",
      "</tr>\n",
      "<tr>\n",
      "<td>3 pièces</td>\n",
      "<td>3 738 €/m2</td>\n",
      "</tr>\n",
      "<tr>\n",
      "<td>4 pièces</td>\n",
      "<td>4 107 €/m2</td>\n",
      "</tr>\n",
      "<tr>\n",
      "<td>5 pièces</td>\n",
      "<td>4 530 €/m2</td>\n",
      "</tr>\n",
      "<tr>\n",
      "<td>6 pièces</td>\n",
      "<td>4 506 €/m2</td>\n",
      "</tr>\n",
      "<tr>\n",
      "<td>7 pièces et plus</td>\n",
      "<td>3 904 €/m2</td>\n",
      "</tr>\n",
      "</tbody>\n",
      "</table>\n"
     ]
    }
   ],
   "source": [
    "print(soup.find(\"table\"))\n",
    "#que le premier tableau "
   ]
  },
  {
   "cell_type": "code",
   "execution_count": 63,
   "id": "a2bcda3d",
   "metadata": {},
   "outputs": [],
   "source": [
    "tableau_prix = soup.find('table', {'class' : 'odTable odTableAuto'})"
   ]
  },
  {
   "cell_type": "code",
   "execution_count": 64,
   "id": "b21cab99",
   "metadata": {},
   "outputs": [
    {
     "data": {
      "text/plain": [
       "bs4.element.Tag"
      ]
     },
     "execution_count": 64,
     "metadata": {},
     "output_type": "execute_result"
    }
   ],
   "source": [
    "type(tableau_prix)"
   ]
  },
  {
   "cell_type": "code",
   "execution_count": 65,
   "id": "5b0edcd5",
   "metadata": {},
   "outputs": [],
   "source": [
    "table_body = tableau_prix.find('tbody')\n",
    "rowss = table_body.find_all('tr')"
   ]
  },
  {
   "cell_type": "code",
   "execution_count": 66,
   "id": "5b4ded30",
   "metadata": {},
   "outputs": [
    {
     "name": "stdout",
     "output_type": "stream",
     "text": [
      "<tr>\n",
      "<td>Studios / 1 pièce</td>\n",
      "<td>4 457 €/m2</td>\n",
      "</tr>\n"
     ]
    }
   ],
   "source": [
    "print(rowss[0])"
   ]
  },
  {
   "cell_type": "code",
   "execution_count": 67,
   "id": "cf130386",
   "metadata": {},
   "outputs": [
    {
     "name": "stdout",
     "output_type": "stream",
     "text": [
      "<tr>\n",
      "<td>2 pièces</td>\n",
      "<td>4 238 €/m2</td>\n",
      "</tr>\n"
     ]
    }
   ],
   "source": [
    "print(rowss[1])"
   ]
  },
  {
   "cell_type": "code",
   "execution_count": 68,
   "id": "974fa201",
   "metadata": {},
   "outputs": [
    {
     "name": "stdout",
     "output_type": "stream",
     "text": [
      "<td>2 pièces</td>\n",
      "2 pièces\n"
     ]
    }
   ],
   "source": [
    "colss = rowss[1].find_all('td')\n",
    "print(colss[0])\n",
    "print(colss[0].text.strip())"
   ]
  },
  {
   "cell_type": "code",
   "execution_count": 69,
   "id": "8f32cf5b",
   "metadata": {},
   "outputs": [
    {
     "name": "stdout",
     "output_type": "stream",
     "text": [
      "2 pièces\n",
      "4 238 €/m2\n"
     ]
    }
   ],
   "source": [
    "for ele in colss : \n",
    "    print(ele.text.strip())"
   ]
  },
  {
   "cell_type": "code",
   "execution_count": 70,
   "id": "09043e6f",
   "metadata": {},
   "outputs": [
    {
     "name": "stdout",
     "output_type": "stream",
     "text": [
      "['Studios / 1 pièce', '4\\xa0457 €/m2']\n",
      "['2 pièces', '4\\xa0238 €/m2']\n",
      "['3 pièces', '3\\xa0738 €/m2']\n",
      "['4 pièces', '4\\xa0107 €/m2']\n",
      "['5 pièces', '4\\xa0530 €/m2']\n",
      "['6 pièces', '4\\xa0506 €/m2']\n",
      "['7 pièces et plus', '3\\xa0904 €/m2']\n"
     ]
    }
   ],
   "source": [
    "for row in rowss:\n",
    "    colss = row.find_all('td')\n",
    "    colss = [ele.text.strip() for ele in colss]\n",
    "    print(colss)"
   ]
  },
  {
   "cell_type": "code",
   "execution_count": 71,
   "id": "424b4fec",
   "metadata": {},
   "outputs": [
    {
     "data": {
      "text/plain": [
       "{'Studios / 1 pièce': ['4\\xa0457 €/m2'],\n",
       " '2 pièces': ['4\\xa0238 €/m2'],\n",
       " '3 pièces': ['3\\xa0738 €/m2'],\n",
       " '4 pièces': ['4\\xa0107 €/m2'],\n",
       " '5 pièces': ['4\\xa0530 €/m2'],\n",
       " '6 pièces': ['4\\xa0506 €/m2'],\n",
       " '7 pièces et plus': ['3\\xa0904 €/m2']}"
      ]
     },
     "execution_count": 71,
     "metadata": {},
     "output_type": "execute_result"
    }
   ],
   "source": [
    "dico_prix = dict()\n",
    "for row in rowss:\n",
    "    colss = row.find_all('td')\n",
    "    colss = [ele.text.strip() for ele in colss]\n",
    "    if len(colss) > 0 : \n",
    "        dico_prix[colss[0]] = colss[1:]\n",
    "dico_prix"
   ]
  },
  {
   "cell_type": "code",
   "execution_count": 72,
   "id": "cf823fbb",
   "metadata": {},
   "outputs": [
    {
     "data": {
      "text/html": [
       "<div>\n",
       "<style scoped>\n",
       "    .dataframe tbody tr th:only-of-type {\n",
       "        vertical-align: middle;\n",
       "    }\n",
       "\n",
       "    .dataframe tbody tr th {\n",
       "        vertical-align: top;\n",
       "    }\n",
       "\n",
       "    .dataframe thead th {\n",
       "        text-align: right;\n",
       "    }\n",
       "</style>\n",
       "<table border=\"1\" class=\"dataframe\">\n",
       "  <thead>\n",
       "    <tr style=\"text-align: right;\">\n",
       "      <th></th>\n",
       "      <th>0</th>\n",
       "    </tr>\n",
       "  </thead>\n",
       "  <tbody>\n",
       "    <tr>\n",
       "      <th>Studios / 1 pièce</th>\n",
       "      <td>4 457 €/m2</td>\n",
       "    </tr>\n",
       "    <tr>\n",
       "      <th>2 pièces</th>\n",
       "      <td>4 238 €/m2</td>\n",
       "    </tr>\n",
       "    <tr>\n",
       "      <th>3 pièces</th>\n",
       "      <td>3 738 €/m2</td>\n",
       "    </tr>\n",
       "    <tr>\n",
       "      <th>4 pièces</th>\n",
       "      <td>4 107 €/m2</td>\n",
       "    </tr>\n",
       "    <tr>\n",
       "      <th>5 pièces</th>\n",
       "      <td>4 530 €/m2</td>\n",
       "    </tr>\n",
       "    <tr>\n",
       "      <th>6 pièces</th>\n",
       "      <td>4 506 €/m2</td>\n",
       "    </tr>\n",
       "    <tr>\n",
       "      <th>7 pièces et plus</th>\n",
       "      <td>3 904 €/m2</td>\n",
       "    </tr>\n",
       "  </tbody>\n",
       "</table>\n",
       "</div>"
      ],
      "text/plain": [
       "                            0\n",
       "Studios / 1 pièce  4 457 €/m2\n",
       "2 pièces           4 238 €/m2\n",
       "3 pièces           3 738 €/m2\n",
       "4 pièces           4 107 €/m2\n",
       "5 pièces           4 530 €/m2\n",
       "6 pièces           4 506 €/m2\n",
       "7 pièces et plus   3 904 €/m2"
      ]
     },
     "execution_count": 72,
     "metadata": {},
     "output_type": "execute_result"
    }
   ],
   "source": [
    "data_prix = pd.DataFrame.from_dict(dico_prix,orient='index')\n",
    "data_prix"
   ]
  },
  {
   "cell_type": "code",
   "execution_count": 73,
   "id": "e3b6cbdb",
   "metadata": {},
   "outputs": [],
   "source": [
    "#arrondissements\n",
    "arrond=soup.find('div',{'class':\"hidden marB20 view-more__box\"})"
   ]
  },
  {
   "cell_type": "code",
   "execution_count": 74,
   "id": "88ce8f49",
   "metadata": {},
   "outputs": [],
   "source": [
    "table_body2 = arrond.find('tbody')\n",
    "rowsarr = table_body2.find_all('tr')"
   ]
  },
  {
   "cell_type": "code",
   "execution_count": 75,
   "id": "ea20559e",
   "metadata": {},
   "outputs": [
    {
     "name": "stdout",
     "output_type": "stream",
     "text": [
      "<tr>\n",
      "<td><strong><a href=\"https://immobilier.lefigaro.fr/prix-immobilier/marseille-1er-arrondissement/arrondissement-13201\" title=\"prix m2 Marseille 1er Arrondissement\">Marseille 1er Arrondissement</a></strong></td><td>3 610 €/m2</td><td>17 €/m2</td>\n",
      "</tr>\n"
     ]
    }
   ],
   "source": [
    "print(rowsarr[0])"
   ]
  },
  {
   "cell_type": "code",
   "execution_count": 76,
   "id": "378081d7",
   "metadata": {},
   "outputs": [
    {
     "name": "stdout",
     "output_type": "stream",
     "text": [
      "<tr>\n",
      "<td><strong><a href=\"https://immobilier.lefigaro.fr/prix-immobilier/marseille-2e-arrondissement/arrondissement-13202\" title=\"prix m2 Marseille 2e Arrondissement\">Marseille 2e Arrondissement</a></strong></td><td>3 967 €/m2</td><td>17 €/m2</td>\n",
      "</tr>\n"
     ]
    }
   ],
   "source": [
    "print(rowsarr[1])"
   ]
  },
  {
   "cell_type": "code",
   "execution_count": 77,
   "id": "c4576abc",
   "metadata": {},
   "outputs": [
    {
     "name": "stdout",
     "output_type": "stream",
     "text": [
      "<td><strong><a href=\"https://immobilier.lefigaro.fr/prix-immobilier/marseille-2e-arrondissement/arrondissement-13202\" title=\"prix m2 Marseille 2e Arrondissement\">Marseille 2e Arrondissement</a></strong></td>\n",
      "Marseille 2e Arrondissement\n"
     ]
    }
   ],
   "source": [
    "colsarr = rowsarr[1].find_all('td')\n",
    "print(colsarr[0])\n",
    "print(colsarr[0].text.strip())"
   ]
  },
  {
   "cell_type": "code",
   "execution_count": 78,
   "id": "c7376be2",
   "metadata": {},
   "outputs": [
    {
     "name": "stdout",
     "output_type": "stream",
     "text": [
      "Marseille 2e Arrondissement\n",
      "3 967 €/m2\n",
      "17 €/m2\n"
     ]
    }
   ],
   "source": [
    "for ele in colsarr : \n",
    "    print(ele.text.strip())"
   ]
  },
  {
   "cell_type": "code",
   "execution_count": 79,
   "id": "f24e7fb6",
   "metadata": {},
   "outputs": [
    {
     "name": "stdout",
     "output_type": "stream",
     "text": [
      "['Marseille 1er Arrondissement', '3\\xa0610 €/m2', '17 €/m2']\n",
      "['Marseille 2e Arrondissement', '3\\xa0967 €/m2', '17 €/m2']\n",
      "['Marseille 3e Arrondissement', '2\\xa0171 €/m2', '16 €/m2']\n",
      "['Marseille 4e Arrondissement', '3\\xa0321 €/m2', '16 €/m2']\n",
      "['Marseille 5e Arrondissement', '3\\xa0784 €/m2', '18 €/m2']\n",
      "['Marseille 6e Arrondissement', '4\\xa0316 €/m2', '18 €/m2']\n",
      "['Marseille 7e Arrondissement', '5\\xa0603 €/m2', '19 €/m2']\n",
      "['Marseille 8e Arrondissement', '5\\xa0686 €/m2', '18 €/m2']\n",
      "['Marseille 9e Arrondissement', '4\\xa0529 €/m2', '17 €/m2']\n",
      "['Marseille 10e Arrondissement', '3\\xa0531 €/m2', '16 €/m2']\n",
      "['Marseille 11e Arrondissement', '4\\xa0264 €/m2', '16 €/m2']\n",
      "['Marseille 12e Arrondissement', '4\\xa0447 €/m2', '16 €/m2']\n",
      "['Marseille 13e Arrondissement', '3\\xa0781 €/m2', '16 €/m2']\n",
      "['Marseille 14e Arrondissement', '2\\xa0517 €/m2', '14 €/m2']\n",
      "['Marseille 15e Arrondissement', '2\\xa0269 €/m2', '14 €/m2']\n",
      "['Marseille 16e Arrondissement', '3\\xa0222 €/m2', '16 €/m2']\n"
     ]
    }
   ],
   "source": [
    "for row in rowsarr:\n",
    "    colsarr = row.find_all('td')\n",
    "    colsarr = [ele.text.strip() for ele in colsarr]\n",
    "    print(colsarr)"
   ]
  },
  {
   "cell_type": "code",
   "execution_count": 80,
   "id": "83ce769e",
   "metadata": {},
   "outputs": [
    {
     "data": {
      "text/plain": [
       "{'Marseille 1er Arrondissement': ['3\\xa0610 €/m2', '17 €/m2'],\n",
       " 'Marseille 2e Arrondissement': ['3\\xa0967 €/m2', '17 €/m2'],\n",
       " 'Marseille 3e Arrondissement': ['2\\xa0171 €/m2', '16 €/m2'],\n",
       " 'Marseille 4e Arrondissement': ['3\\xa0321 €/m2', '16 €/m2'],\n",
       " 'Marseille 5e Arrondissement': ['3\\xa0784 €/m2', '18 €/m2'],\n",
       " 'Marseille 6e Arrondissement': ['4\\xa0316 €/m2', '18 €/m2'],\n",
       " 'Marseille 7e Arrondissement': ['5\\xa0603 €/m2', '19 €/m2'],\n",
       " 'Marseille 8e Arrondissement': ['5\\xa0686 €/m2', '18 €/m2'],\n",
       " 'Marseille 9e Arrondissement': ['4\\xa0529 €/m2', '17 €/m2'],\n",
       " 'Marseille 10e Arrondissement': ['3\\xa0531 €/m2', '16 €/m2'],\n",
       " 'Marseille 11e Arrondissement': ['4\\xa0264 €/m2', '16 €/m2'],\n",
       " 'Marseille 12e Arrondissement': ['4\\xa0447 €/m2', '16 €/m2'],\n",
       " 'Marseille 13e Arrondissement': ['3\\xa0781 €/m2', '16 €/m2'],\n",
       " 'Marseille 14e Arrondissement': ['2\\xa0517 €/m2', '14 €/m2'],\n",
       " 'Marseille 15e Arrondissement': ['2\\xa0269 €/m2', '14 €/m2'],\n",
       " 'Marseille 16e Arrondissement': ['3\\xa0222 €/m2', '16 €/m2']}"
      ]
     },
     "execution_count": 80,
     "metadata": {},
     "output_type": "execute_result"
    }
   ],
   "source": [
    "dico_arr = dict()\n",
    "for row in rowsarr:\n",
    "    colsarr = row.find_all('td')\n",
    "    colsarr = [ele.text.strip() for ele in colsarr]\n",
    "    if len(colsarr) > 0 : \n",
    "        dico_arr[colsarr[0]] = colsarr[1:]\n",
    "dico_arr"
   ]
  },
  {
   "cell_type": "code",
   "execution_count": 81,
   "id": "cbb62b0d",
   "metadata": {},
   "outputs": [],
   "source": [
    "data_arr = pd.DataFrame.from_dict(dico_arr,orient='index')"
   ]
  },
  {
   "cell_type": "code",
   "execution_count": 82,
   "id": "eb2829bb",
   "metadata": {},
   "outputs": [],
   "source": [
    "data_arr.columns = ['prix m2', \"loyer m2\"]"
   ]
  },
  {
   "cell_type": "code",
   "execution_count": 83,
   "id": "cca389b2",
   "metadata": {},
   "outputs": [
    {
     "data": {
      "text/html": [
       "<div>\n",
       "<style scoped>\n",
       "    .dataframe tbody tr th:only-of-type {\n",
       "        vertical-align: middle;\n",
       "    }\n",
       "\n",
       "    .dataframe tbody tr th {\n",
       "        vertical-align: top;\n",
       "    }\n",
       "\n",
       "    .dataframe thead th {\n",
       "        text-align: right;\n",
       "    }\n",
       "</style>\n",
       "<table border=\"1\" class=\"dataframe\">\n",
       "  <thead>\n",
       "    <tr style=\"text-align: right;\">\n",
       "      <th></th>\n",
       "      <th>prix m2</th>\n",
       "      <th>loyer m2</th>\n",
       "    </tr>\n",
       "  </thead>\n",
       "  <tbody>\n",
       "    <tr>\n",
       "      <th>Marseille 1er Arrondissement</th>\n",
       "      <td>3 610 €/m2</td>\n",
       "      <td>17 €/m2</td>\n",
       "    </tr>\n",
       "    <tr>\n",
       "      <th>Marseille 2e Arrondissement</th>\n",
       "      <td>3 967 €/m2</td>\n",
       "      <td>17 €/m2</td>\n",
       "    </tr>\n",
       "    <tr>\n",
       "      <th>Marseille 3e Arrondissement</th>\n",
       "      <td>2 171 €/m2</td>\n",
       "      <td>16 €/m2</td>\n",
       "    </tr>\n",
       "    <tr>\n",
       "      <th>Marseille 4e Arrondissement</th>\n",
       "      <td>3 321 €/m2</td>\n",
       "      <td>16 €/m2</td>\n",
       "    </tr>\n",
       "    <tr>\n",
       "      <th>Marseille 5e Arrondissement</th>\n",
       "      <td>3 784 €/m2</td>\n",
       "      <td>18 €/m2</td>\n",
       "    </tr>\n",
       "    <tr>\n",
       "      <th>Marseille 6e Arrondissement</th>\n",
       "      <td>4 316 €/m2</td>\n",
       "      <td>18 €/m2</td>\n",
       "    </tr>\n",
       "    <tr>\n",
       "      <th>Marseille 7e Arrondissement</th>\n",
       "      <td>5 603 €/m2</td>\n",
       "      <td>19 €/m2</td>\n",
       "    </tr>\n",
       "    <tr>\n",
       "      <th>Marseille 8e Arrondissement</th>\n",
       "      <td>5 686 €/m2</td>\n",
       "      <td>18 €/m2</td>\n",
       "    </tr>\n",
       "    <tr>\n",
       "      <th>Marseille 9e Arrondissement</th>\n",
       "      <td>4 529 €/m2</td>\n",
       "      <td>17 €/m2</td>\n",
       "    </tr>\n",
       "    <tr>\n",
       "      <th>Marseille 10e Arrondissement</th>\n",
       "      <td>3 531 €/m2</td>\n",
       "      <td>16 €/m2</td>\n",
       "    </tr>\n",
       "    <tr>\n",
       "      <th>Marseille 11e Arrondissement</th>\n",
       "      <td>4 264 €/m2</td>\n",
       "      <td>16 €/m2</td>\n",
       "    </tr>\n",
       "    <tr>\n",
       "      <th>Marseille 12e Arrondissement</th>\n",
       "      <td>4 447 €/m2</td>\n",
       "      <td>16 €/m2</td>\n",
       "    </tr>\n",
       "    <tr>\n",
       "      <th>Marseille 13e Arrondissement</th>\n",
       "      <td>3 781 €/m2</td>\n",
       "      <td>16 €/m2</td>\n",
       "    </tr>\n",
       "    <tr>\n",
       "      <th>Marseille 14e Arrondissement</th>\n",
       "      <td>2 517 €/m2</td>\n",
       "      <td>14 €/m2</td>\n",
       "    </tr>\n",
       "    <tr>\n",
       "      <th>Marseille 15e Arrondissement</th>\n",
       "      <td>2 269 €/m2</td>\n",
       "      <td>14 €/m2</td>\n",
       "    </tr>\n",
       "    <tr>\n",
       "      <th>Marseille 16e Arrondissement</th>\n",
       "      <td>3 222 €/m2</td>\n",
       "      <td>16 €/m2</td>\n",
       "    </tr>\n",
       "  </tbody>\n",
       "</table>\n",
       "</div>"
      ],
      "text/plain": [
       "                                 prix m2 loyer m2\n",
       "Marseille 1er Arrondissement  3 610 €/m2  17 €/m2\n",
       "Marseille 2e Arrondissement   3 967 €/m2  17 €/m2\n",
       "Marseille 3e Arrondissement   2 171 €/m2  16 €/m2\n",
       "Marseille 4e Arrondissement   3 321 €/m2  16 €/m2\n",
       "Marseille 5e Arrondissement   3 784 €/m2  18 €/m2\n",
       "Marseille 6e Arrondissement   4 316 €/m2  18 €/m2\n",
       "Marseille 7e Arrondissement   5 603 €/m2  19 €/m2\n",
       "Marseille 8e Arrondissement   5 686 €/m2  18 €/m2\n",
       "Marseille 9e Arrondissement   4 529 €/m2  17 €/m2\n",
       "Marseille 10e Arrondissement  3 531 €/m2  16 €/m2\n",
       "Marseille 11e Arrondissement  4 264 €/m2  16 €/m2\n",
       "Marseille 12e Arrondissement  4 447 €/m2  16 €/m2\n",
       "Marseille 13e Arrondissement  3 781 €/m2  16 €/m2\n",
       "Marseille 14e Arrondissement  2 517 €/m2  14 €/m2\n",
       "Marseille 15e Arrondissement  2 269 €/m2  14 €/m2\n",
       "Marseille 16e Arrondissement  3 222 €/m2  16 €/m2"
      ]
     },
     "execution_count": 83,
     "metadata": {},
     "output_type": "execute_result"
    }
   ],
   "source": [
    "data_arr"
   ]
  },
  {
   "cell_type": "code",
   "execution_count": 95,
   "id": "a27374d3",
   "metadata": {},
   "outputs": [],
   "source": [
    "df_arr=data_arr.drop(columns='loyer m2')"
   ]
  },
  {
   "cell_type": "code",
   "execution_count": 97,
   "id": "101a10c0",
   "metadata": {
    "scrolled": false
   },
   "outputs": [
    {
     "data": {
      "text/html": [
       "<div>\n",
       "<style scoped>\n",
       "    .dataframe tbody tr th:only-of-type {\n",
       "        vertical-align: middle;\n",
       "    }\n",
       "\n",
       "    .dataframe tbody tr th {\n",
       "        vertical-align: top;\n",
       "    }\n",
       "\n",
       "    .dataframe thead th {\n",
       "        text-align: right;\n",
       "    }\n",
       "</style>\n",
       "<table border=\"1\" class=\"dataframe\">\n",
       "  <thead>\n",
       "    <tr style=\"text-align: right;\">\n",
       "      <th></th>\n",
       "      <th>prix m2</th>\n",
       "    </tr>\n",
       "  </thead>\n",
       "  <tbody>\n",
       "    <tr>\n",
       "      <th>Marseille 1er Arrondissement</th>\n",
       "      <td>3 610 €/m2</td>\n",
       "    </tr>\n",
       "    <tr>\n",
       "      <th>Marseille 2e Arrondissement</th>\n",
       "      <td>3 967 €/m2</td>\n",
       "    </tr>\n",
       "    <tr>\n",
       "      <th>Marseille 3e Arrondissement</th>\n",
       "      <td>2 171 €/m2</td>\n",
       "    </tr>\n",
       "    <tr>\n",
       "      <th>Marseille 4e Arrondissement</th>\n",
       "      <td>3 321 €/m2</td>\n",
       "    </tr>\n",
       "    <tr>\n",
       "      <th>Marseille 5e Arrondissement</th>\n",
       "      <td>3 784 €/m2</td>\n",
       "    </tr>\n",
       "    <tr>\n",
       "      <th>Marseille 6e Arrondissement</th>\n",
       "      <td>4 316 €/m2</td>\n",
       "    </tr>\n",
       "    <tr>\n",
       "      <th>Marseille 7e Arrondissement</th>\n",
       "      <td>5 603 €/m2</td>\n",
       "    </tr>\n",
       "    <tr>\n",
       "      <th>Marseille 8e Arrondissement</th>\n",
       "      <td>5 686 €/m2</td>\n",
       "    </tr>\n",
       "    <tr>\n",
       "      <th>Marseille 9e Arrondissement</th>\n",
       "      <td>4 529 €/m2</td>\n",
       "    </tr>\n",
       "    <tr>\n",
       "      <th>Marseille 10e Arrondissement</th>\n",
       "      <td>3 531 €/m2</td>\n",
       "    </tr>\n",
       "    <tr>\n",
       "      <th>Marseille 11e Arrondissement</th>\n",
       "      <td>4 264 €/m2</td>\n",
       "    </tr>\n",
       "    <tr>\n",
       "      <th>Marseille 12e Arrondissement</th>\n",
       "      <td>4 447 €/m2</td>\n",
       "    </tr>\n",
       "    <tr>\n",
       "      <th>Marseille 13e Arrondissement</th>\n",
       "      <td>3 781 €/m2</td>\n",
       "    </tr>\n",
       "    <tr>\n",
       "      <th>Marseille 14e Arrondissement</th>\n",
       "      <td>2 517 €/m2</td>\n",
       "    </tr>\n",
       "    <tr>\n",
       "      <th>Marseille 15e Arrondissement</th>\n",
       "      <td>2 269 €/m2</td>\n",
       "    </tr>\n",
       "    <tr>\n",
       "      <th>Marseille 16e Arrondissement</th>\n",
       "      <td>3 222 €/m2</td>\n",
       "    </tr>\n",
       "  </tbody>\n",
       "</table>\n",
       "</div>"
      ],
      "text/plain": [
       "                                 prix m2\n",
       "Marseille 1er Arrondissement  3 610 €/m2\n",
       "Marseille 2e Arrondissement   3 967 €/m2\n",
       "Marseille 3e Arrondissement   2 171 €/m2\n",
       "Marseille 4e Arrondissement   3 321 €/m2\n",
       "Marseille 5e Arrondissement   3 784 €/m2\n",
       "Marseille 6e Arrondissement   4 316 €/m2\n",
       "Marseille 7e Arrondissement   5 603 €/m2\n",
       "Marseille 8e Arrondissement   5 686 €/m2\n",
       "Marseille 9e Arrondissement   4 529 €/m2\n",
       "Marseille 10e Arrondissement  3 531 €/m2\n",
       "Marseille 11e Arrondissement  4 264 €/m2\n",
       "Marseille 12e Arrondissement  4 447 €/m2\n",
       "Marseille 13e Arrondissement  3 781 €/m2\n",
       "Marseille 14e Arrondissement  2 517 €/m2\n",
       "Marseille 15e Arrondissement  2 269 €/m2\n",
       "Marseille 16e Arrondissement  3 222 €/m2"
      ]
     },
     "execution_count": 97,
     "metadata": {},
     "output_type": "execute_result"
    }
   ],
   "source": [
    "df_arr"
   ]
  },
  {
   "cell_type": "code",
   "execution_count": 84,
   "id": "3d704db5",
   "metadata": {},
   "outputs": [
    {
     "name": "stdout",
     "output_type": "stream",
     "text": [
      "<table class=\"odTable odTableAuto\">\n",
      "<thead>\n",
      "<tr>\n",
      "<th class=\"odGradient\" style=\"width:50%;\">Quartier</th>\n",
      "<th class=\"odGradient\" style=\"width:25%;\">Prix m2</th>\n",
      "<th class=\"odGradient\" style=\"width:25%;\">Loyer m2</th>\n",
      "</tr>\n",
      "</thead>\n",
      "<tbody>\n",
      "<tr>\n",
      "<td><strong><a href=\"https://immobilier.lefigaro.fr/prix-immobilier/le-roucas-blanc/quartier-3704024746032128\" title=\"prix m2 Marseille Le Roucas Blanc\">Le Roucas Blanc</a></strong></td><td>7 148 €/m2</td><td>23 €/m2</td>\n",
      "</tr>\n",
      "<tr>\n",
      "<td><strong><a href=\"https://immobilier.lefigaro.fr/prix-immobilier/bompard/quartier-3704024744590336\" title=\"prix m2 Marseille Bompard\">Bompard</a></strong></td><td>6 545 €/m2</td><td>19 €/m2</td>\n",
      "</tr>\n",
      "<tr>\n",
      "<td><strong><a href=\"https://immobilier.lefigaro.fr/prix-immobilier/la-plage/quartier-3704024654199808\" title=\"prix m2 Marseille La Plage\">La Plage</a></strong></td><td>6 335 €/m2</td><td>23 €/m2</td>\n",
      "</tr>\n",
      "<tr>\n",
      "<td><strong><a href=\"https://immobilier.lefigaro.fr/prix-immobilier/sainte-anne/quartier-3704024657673216\" title=\"prix m2 Marseille Sainte Anne\">Sainte Anne</a></strong></td><td>6 263 €/m2</td><td>17 €/m2</td>\n",
      "</tr>\n",
      "<tr>\n",
      "<td><strong><a href=\"https://immobilier.lefigaro.fr/prix-immobilier/endoume/quartier-3704024745098240\" title=\"prix m2 Marseille Endoume\">Endoume</a></strong></td><td>5 987 €/m2</td><td>20 €/m2</td>\n",
      "</tr>\n",
      "<tr>\n",
      "<td><strong><a href=\"https://immobilier.lefigaro.fr/prix-immobilier/vieille-chapelle/quartier-3704024658377728\" title=\"prix m2 Marseille Vieille Chapelle\">Vieille Chapelle</a></strong></td><td>5 975 €/m2</td><td>18 €/m2</td>\n",
      "</tr>\n",
      "<tr>\n",
      "<td><strong><a href=\"https://immobilier.lefigaro.fr/prix-immobilier/montredon/quartier-3704024655690752\" title=\"prix m2 Marseille Montredon\">Montredon</a></strong></td><td>5 771 €/m2</td><td>19 €/m2</td>\n",
      "</tr>\n",
      "<tr>\n",
      "<td><strong><a href=\"https://immobilier.lefigaro.fr/prix-immobilier/le-pharo/quartier-3704024745573376\" title=\"prix m2 Marseille Le Pharo\">Le Pharo</a></strong></td><td>5 594 €/m2</td><td>18 €/m2</td>\n",
      "</tr>\n",
      "<tr>\n",
      "<td><strong><a href=\"https://immobilier.lefigaro.fr/prix-immobilier/bonneveine/quartier-3704024653609984\" title=\"prix m2 Marseille Bonneveine\">Bonneveine</a></strong></td><td>5 509 €/m2</td><td>17 €/m2</td>\n",
      "</tr>\n",
      "<tr>\n",
      "<td><strong><a href=\"https://immobilier.lefigaro.fr/prix-immobilier/saint-lambert/quartier-3704024747015168\" title=\"prix m2 Marseille Saint Lambert\">Saint Lambert</a></strong></td><td>5 470 €/m2</td><td>19 €/m2</td>\n",
      "</tr>\n",
      "<tr>\n",
      "<td><strong><a href=\"https://immobilier.lefigaro.fr/prix-immobilier/saint-giniez/quartier-3704024657214464\" title=\"prix m2 Marseille Saint Giniez\">Saint Giniez</a></strong></td><td>5 458 €/m2</td><td>20 €/m2</td>\n",
      "</tr>\n",
      "<tr>\n",
      "<td><strong><a href=\"https://immobilier.lefigaro.fr/prix-immobilier/pointe-rouge/quartier-3704024656706560\" title=\"prix m2 Marseille Pointe Rouge\">Pointe Rouge</a></strong></td><td>5 263 €/m2</td><td>17 €/m2</td>\n",
      "</tr>\n",
      "<tr>\n",
      "<td><strong><a href=\"https://immobilier.lefigaro.fr/prix-immobilier/la-treille/quartier-3704024892832768\" title=\"prix m2 Marseille La Treille\">La Treille</a></strong></td><td>5 206 €/m2</td><td>17 €/m2</td>\n",
      "</tr>\n",
      "<tr>\n",
      "<td><strong><a href=\"https://immobilier.lefigaro.fr/prix-immobilier/les-accates/quartier-3704024894569472\" title=\"prix m2 Marseille Les Accates\">Les Accates</a></strong></td><td>5 092 €/m2</td><td>17 €/m2</td>\n",
      "</tr>\n",
      "<tr>\n",
      "<td><strong><a href=\"https://immobilier.lefigaro.fr/prix-immobilier/vauban/quartier-3704024739740672\" title=\"prix m2 Marseille Vauban\">Vauban</a></strong></td><td>5 090 €/m2</td><td>18 €/m2</td>\n",
      "</tr>\n",
      "<tr>\n",
      "<td><strong><a href=\"https://immobilier.lefigaro.fr/prix-immobilier/eoures/quartier-3704024890752000\" title=\"prix m2 Marseille Eoures\">Eoures</a></strong></td><td>5 089 €/m2</td><td>18 €/m2</td>\n",
      "</tr>\n",
      "<tr>\n",
      "<td><strong><a href=\"https://immobilier.lefigaro.fr/prix-immobilier/les-iles/quartier-3704024746507264\" title=\"prix m2 Marseille Les îles\">Les îles</a></strong></td><td>5 060 €/m2</td><td>-</td>\n",
      "</tr>\n",
      "<tr>\n",
      "<td><strong><a href=\"https://immobilier.lefigaro.fr/prix-immobilier/saint-victor/quartier-3704024747490304\" title=\"prix m2 Marseille Saint Victor\">Saint Victor</a></strong></td><td>5 030 €/m2</td><td>19 €/m2</td>\n",
      "</tr>\n",
      "<tr>\n",
      "<td><strong><a href=\"https://immobilier.lefigaro.fr/prix-immobilier/vaufreges/quartier-3704024680037376\" title=\"prix m2 Marseille Vaufrèges\">Vaufrèges</a></strong></td><td>5 007 €/m2</td><td>20 €/m2</td>\n",
      "</tr>\n",
      "<tr>\n",
      "<td><strong><a href=\"https://immobilier.lefigaro.fr/prix-immobilier/perier/quartier-3704024656231424\" title=\"prix m2 Marseille Périer\">Périer</a></strong></td><td>4 980 €/m2</td><td>20 €/m2</td>\n",
      "</tr>\n",
      "</tbody>\n",
      "</table>\n"
     ]
    }
   ],
   "source": [
    "#par quartiers\n",
    "quartiers = soup.find_all('table', {'class' : 'odTable odTableAuto'})[-1]\n",
    "print(quartiers)"
   ]
  },
  {
   "cell_type": "code",
   "execution_count": 85,
   "id": "98a12f74",
   "metadata": {},
   "outputs": [],
   "source": [
    "table_body3 = quartiers.find('tbody')\n",
    "rowsqu = table_body3.find_all('tr')"
   ]
  },
  {
   "cell_type": "code",
   "execution_count": 86,
   "id": "136da238",
   "metadata": {},
   "outputs": [
    {
     "name": "stdout",
     "output_type": "stream",
     "text": [
      "<tr>\n",
      "<td><strong><a href=\"https://immobilier.lefigaro.fr/prix-immobilier/le-roucas-blanc/quartier-3704024746032128\" title=\"prix m2 Marseille Le Roucas Blanc\">Le Roucas Blanc</a></strong></td><td>7 148 €/m2</td><td>23 €/m2</td>\n",
      "</tr>\n"
     ]
    }
   ],
   "source": [
    "print(rowsqu[0])"
   ]
  },
  {
   "cell_type": "code",
   "execution_count": 87,
   "id": "57a500c3",
   "metadata": {},
   "outputs": [
    {
     "name": "stdout",
     "output_type": "stream",
     "text": [
      "<tr>\n",
      "<td><strong><a href=\"https://immobilier.lefigaro.fr/prix-immobilier/bompard/quartier-3704024744590336\" title=\"prix m2 Marseille Bompard\">Bompard</a></strong></td><td>6 545 €/m2</td><td>19 €/m2</td>\n",
      "</tr>\n"
     ]
    }
   ],
   "source": [
    "print(rowsqu[1])"
   ]
  },
  {
   "cell_type": "code",
   "execution_count": 88,
   "id": "de1e1c89",
   "metadata": {},
   "outputs": [
    {
     "name": "stdout",
     "output_type": "stream",
     "text": [
      "<td><strong><a href=\"https://immobilier.lefigaro.fr/prix-immobilier/bompard/quartier-3704024744590336\" title=\"prix m2 Marseille Bompard\">Bompard</a></strong></td>\n",
      "Bompard\n"
     ]
    }
   ],
   "source": [
    "colsqu = rowsqu[1].find_all('td')\n",
    "print(colsqu[0])\n",
    "print(colsqu[0].text.strip())"
   ]
  },
  {
   "cell_type": "code",
   "execution_count": 89,
   "id": "dae0b28f",
   "metadata": {},
   "outputs": [
    {
     "name": "stdout",
     "output_type": "stream",
     "text": [
      "Bompard\n",
      "6 545 €/m2\n",
      "19 €/m2\n"
     ]
    }
   ],
   "source": [
    "for ele in colsqu : \n",
    "    print(ele.text.strip())"
   ]
  },
  {
   "cell_type": "code",
   "execution_count": 90,
   "id": "d64b5cce",
   "metadata": {},
   "outputs": [
    {
     "name": "stdout",
     "output_type": "stream",
     "text": [
      "['Le Roucas Blanc', '7\\xa0148 €/m2', '23 €/m2']\n",
      "['Bompard', '6\\xa0545 €/m2', '19 €/m2']\n",
      "['La Plage', '6\\xa0335 €/m2', '23 €/m2']\n",
      "['Sainte Anne', '6\\xa0263 €/m2', '17 €/m2']\n",
      "['Endoume', '5\\xa0987 €/m2', '20 €/m2']\n",
      "['Vieille Chapelle', '5\\xa0975 €/m2', '18 €/m2']\n",
      "['Montredon', '5\\xa0771 €/m2', '19 €/m2']\n",
      "['Le Pharo', '5\\xa0594 €/m2', '18 €/m2']\n",
      "['Bonneveine', '5\\xa0509 €/m2', '17 €/m2']\n",
      "['Saint Lambert', '5\\xa0470 €/m2', '19 €/m2']\n",
      "['Saint Giniez', '5\\xa0458 €/m2', '20 €/m2']\n",
      "['Pointe Rouge', '5\\xa0263 €/m2', '17 €/m2']\n",
      "['La Treille', '5\\xa0206 €/m2', '17 €/m2']\n",
      "['Les Accates', '5\\xa0092 €/m2', '17 €/m2']\n",
      "['Vauban', '5\\xa0090 €/m2', '18 €/m2']\n",
      "['Eoures', '5\\xa0089 €/m2', '18 €/m2']\n",
      "['Les îles', '5\\xa0060 €/m2', '-']\n",
      "['Saint Victor', '5\\xa0030 €/m2', '19 €/m2']\n",
      "['Vaufrèges', '5\\xa0007 €/m2', '20 €/m2']\n",
      "['Périer', '4\\xa0980 €/m2', '20 €/m2']\n"
     ]
    }
   ],
   "source": [
    "for row in rowsqu:\n",
    "    colsqu = row.find_all('td')\n",
    "    colsqu = [ele.text.strip() for ele in colsqu]\n",
    "    print(colsqu)"
   ]
  },
  {
   "cell_type": "code",
   "execution_count": 91,
   "id": "2f10afe3",
   "metadata": {},
   "outputs": [
    {
     "data": {
      "text/plain": [
       "{'Le Roucas Blanc': ['7\\xa0148 €/m2', '23 €/m2'],\n",
       " 'Bompard': ['6\\xa0545 €/m2', '19 €/m2'],\n",
       " 'La Plage': ['6\\xa0335 €/m2', '23 €/m2'],\n",
       " 'Sainte Anne': ['6\\xa0263 €/m2', '17 €/m2'],\n",
       " 'Endoume': ['5\\xa0987 €/m2', '20 €/m2'],\n",
       " 'Vieille Chapelle': ['5\\xa0975 €/m2', '18 €/m2'],\n",
       " 'Montredon': ['5\\xa0771 €/m2', '19 €/m2'],\n",
       " 'Le Pharo': ['5\\xa0594 €/m2', '18 €/m2'],\n",
       " 'Bonneveine': ['5\\xa0509 €/m2', '17 €/m2'],\n",
       " 'Saint Lambert': ['5\\xa0470 €/m2', '19 €/m2'],\n",
       " 'Saint Giniez': ['5\\xa0458 €/m2', '20 €/m2'],\n",
       " 'Pointe Rouge': ['5\\xa0263 €/m2', '17 €/m2'],\n",
       " 'La Treille': ['5\\xa0206 €/m2', '17 €/m2'],\n",
       " 'Les Accates': ['5\\xa0092 €/m2', '17 €/m2'],\n",
       " 'Vauban': ['5\\xa0090 €/m2', '18 €/m2'],\n",
       " 'Eoures': ['5\\xa0089 €/m2', '18 €/m2'],\n",
       " 'Les îles': ['5\\xa0060 €/m2', '-'],\n",
       " 'Saint Victor': ['5\\xa0030 €/m2', '19 €/m2'],\n",
       " 'Vaufrèges': ['5\\xa0007 €/m2', '20 €/m2'],\n",
       " 'Périer': ['4\\xa0980 €/m2', '20 €/m2']}"
      ]
     },
     "execution_count": 91,
     "metadata": {},
     "output_type": "execute_result"
    }
   ],
   "source": [
    "dico_qu = dict()\n",
    "for row in rowsqu:\n",
    "    colsqu = row.find_all('td')\n",
    "    colsqu = [ele.text.strip() for ele in colsqu]\n",
    "    if len(colsqu) > 0 : \n",
    "        dico_qu[colsqu[0]] = colsqu[1:]\n",
    "dico_qu"
   ]
  },
  {
   "cell_type": "code",
   "execution_count": 92,
   "id": "8578850d",
   "metadata": {},
   "outputs": [],
   "source": [
    "data_qu = pd.DataFrame.from_dict(dico_qu,orient='index')"
   ]
  },
  {
   "cell_type": "code",
   "execution_count": 93,
   "id": "291eba57",
   "metadata": {},
   "outputs": [],
   "source": [
    "data_qu.columns = ['prix m2', \"loyer m2\"]"
   ]
  },
  {
   "cell_type": "code",
   "execution_count": 94,
   "id": "84d77ae0",
   "metadata": {},
   "outputs": [
    {
     "data": {
      "text/html": [
       "<div>\n",
       "<style scoped>\n",
       "    .dataframe tbody tr th:only-of-type {\n",
       "        vertical-align: middle;\n",
       "    }\n",
       "\n",
       "    .dataframe tbody tr th {\n",
       "        vertical-align: top;\n",
       "    }\n",
       "\n",
       "    .dataframe thead th {\n",
       "        text-align: right;\n",
       "    }\n",
       "</style>\n",
       "<table border=\"1\" class=\"dataframe\">\n",
       "  <thead>\n",
       "    <tr style=\"text-align: right;\">\n",
       "      <th></th>\n",
       "      <th>prix m2</th>\n",
       "      <th>loyer m2</th>\n",
       "    </tr>\n",
       "  </thead>\n",
       "  <tbody>\n",
       "    <tr>\n",
       "      <th>Le Roucas Blanc</th>\n",
       "      <td>7 148 €/m2</td>\n",
       "      <td>23 €/m2</td>\n",
       "    </tr>\n",
       "    <tr>\n",
       "      <th>Bompard</th>\n",
       "      <td>6 545 €/m2</td>\n",
       "      <td>19 €/m2</td>\n",
       "    </tr>\n",
       "    <tr>\n",
       "      <th>La Plage</th>\n",
       "      <td>6 335 €/m2</td>\n",
       "      <td>23 €/m2</td>\n",
       "    </tr>\n",
       "    <tr>\n",
       "      <th>Sainte Anne</th>\n",
       "      <td>6 263 €/m2</td>\n",
       "      <td>17 €/m2</td>\n",
       "    </tr>\n",
       "    <tr>\n",
       "      <th>Endoume</th>\n",
       "      <td>5 987 €/m2</td>\n",
       "      <td>20 €/m2</td>\n",
       "    </tr>\n",
       "    <tr>\n",
       "      <th>Vieille Chapelle</th>\n",
       "      <td>5 975 €/m2</td>\n",
       "      <td>18 €/m2</td>\n",
       "    </tr>\n",
       "    <tr>\n",
       "      <th>Montredon</th>\n",
       "      <td>5 771 €/m2</td>\n",
       "      <td>19 €/m2</td>\n",
       "    </tr>\n",
       "    <tr>\n",
       "      <th>Le Pharo</th>\n",
       "      <td>5 594 €/m2</td>\n",
       "      <td>18 €/m2</td>\n",
       "    </tr>\n",
       "    <tr>\n",
       "      <th>Bonneveine</th>\n",
       "      <td>5 509 €/m2</td>\n",
       "      <td>17 €/m2</td>\n",
       "    </tr>\n",
       "    <tr>\n",
       "      <th>Saint Lambert</th>\n",
       "      <td>5 470 €/m2</td>\n",
       "      <td>19 €/m2</td>\n",
       "    </tr>\n",
       "    <tr>\n",
       "      <th>Saint Giniez</th>\n",
       "      <td>5 458 €/m2</td>\n",
       "      <td>20 €/m2</td>\n",
       "    </tr>\n",
       "    <tr>\n",
       "      <th>Pointe Rouge</th>\n",
       "      <td>5 263 €/m2</td>\n",
       "      <td>17 €/m2</td>\n",
       "    </tr>\n",
       "    <tr>\n",
       "      <th>La Treille</th>\n",
       "      <td>5 206 €/m2</td>\n",
       "      <td>17 €/m2</td>\n",
       "    </tr>\n",
       "    <tr>\n",
       "      <th>Les Accates</th>\n",
       "      <td>5 092 €/m2</td>\n",
       "      <td>17 €/m2</td>\n",
       "    </tr>\n",
       "    <tr>\n",
       "      <th>Vauban</th>\n",
       "      <td>5 090 €/m2</td>\n",
       "      <td>18 €/m2</td>\n",
       "    </tr>\n",
       "    <tr>\n",
       "      <th>Eoures</th>\n",
       "      <td>5 089 €/m2</td>\n",
       "      <td>18 €/m2</td>\n",
       "    </tr>\n",
       "    <tr>\n",
       "      <th>Les îles</th>\n",
       "      <td>5 060 €/m2</td>\n",
       "      <td>-</td>\n",
       "    </tr>\n",
       "    <tr>\n",
       "      <th>Saint Victor</th>\n",
       "      <td>5 030 €/m2</td>\n",
       "      <td>19 €/m2</td>\n",
       "    </tr>\n",
       "    <tr>\n",
       "      <th>Vaufrèges</th>\n",
       "      <td>5 007 €/m2</td>\n",
       "      <td>20 €/m2</td>\n",
       "    </tr>\n",
       "    <tr>\n",
       "      <th>Périer</th>\n",
       "      <td>4 980 €/m2</td>\n",
       "      <td>20 €/m2</td>\n",
       "    </tr>\n",
       "  </tbody>\n",
       "</table>\n",
       "</div>"
      ],
      "text/plain": [
       "                     prix m2 loyer m2\n",
       "Le Roucas Blanc   7 148 €/m2  23 €/m2\n",
       "Bompard           6 545 €/m2  19 €/m2\n",
       "La Plage          6 335 €/m2  23 €/m2\n",
       "Sainte Anne       6 263 €/m2  17 €/m2\n",
       "Endoume           5 987 €/m2  20 €/m2\n",
       "Vieille Chapelle  5 975 €/m2  18 €/m2\n",
       "Montredon         5 771 €/m2  19 €/m2\n",
       "Le Pharo          5 594 €/m2  18 €/m2\n",
       "Bonneveine        5 509 €/m2  17 €/m2\n",
       "Saint Lambert     5 470 €/m2  19 €/m2\n",
       "Saint Giniez      5 458 €/m2  20 €/m2\n",
       "Pointe Rouge      5 263 €/m2  17 €/m2\n",
       "La Treille        5 206 €/m2  17 €/m2\n",
       "Les Accates       5 092 €/m2  17 €/m2\n",
       "Vauban            5 090 €/m2  18 €/m2\n",
       "Eoures            5 089 €/m2  18 €/m2\n",
       "Les îles          5 060 €/m2        -\n",
       "Saint Victor      5 030 €/m2  19 €/m2\n",
       "Vaufrèges         5 007 €/m2  20 €/m2\n",
       "Périer            4 980 €/m2  20 €/m2"
      ]
     },
     "execution_count": 94,
     "metadata": {},
     "output_type": "execute_result"
    }
   ],
   "source": [
    "data_qu.head(20)"
   ]
  },
  {
   "cell_type": "code",
   "execution_count": null,
   "id": "7315d386",
   "metadata": {},
   "outputs": [],
   "source": []
  }
 ],
 "metadata": {
  "kernelspec": {
   "display_name": "Python 3",
   "language": "python",
   "name": "python3"
  },
  "language_info": {
   "codemirror_mode": {
    "name": "ipython",
    "version": 3
   },
   "file_extension": ".py",
   "mimetype": "text/x-python",
   "name": "python",
   "nbconvert_exporter": "python",
   "pygments_lexer": "ipython3",
   "version": "3.8.8"
  }
 },
 "nbformat": 4,
 "nbformat_minor": 5
}
