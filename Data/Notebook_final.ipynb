{
 "cells": [
  {
   "cell_type": "markdown",
   "id": "fbcbb11d-00ca-48ee-98f6-7d1f58f13cdd",
   "metadata": {},
   "source": [
    "# Étude des prix du foncier à Marseille\n",
    "Kenza Miousset, Nour Khenissi, Antonin Henriet\n",
    "\n",
    "> ## Objectifs\n",
    "\n",
    "Nous souhaitions travailler sur les prix du foncier dans une ville de France, car cela nous permettait de mettre en place tous les aspects du projet demandé : webscraping, machine learning et visualisation dans l'espace. Néanmoins, nous ne voulions pas nous tourner vers Paris, qui est une ville beaucoup étudiée et où les inégalités socio-spatiales sont déjà bien documentées. L'idée de travailler sur Marseille nous est venue en remarquant que la cité phocéenne était aussi très inégalitaire : La valeur foncière varie beaucoup selon les quartiers dans lesquels on se trouve. Nous sommes donc partis de cette base pour tenter de décrire les inégalités socio-spatiales à Marseille en se fondant sur les prix du foncier.\n",
    "\n",
    "> ## Structure\n",
    "\n",
    "Ce projet se structure en 4 parties :\n",
    "> - **Webscraping et nettoyage des données**\n",
    "> - **Analyse exploratoire descriptive des données**\n",
    "> - **Modélisation de la valeur foncière en fonction des arrondissements**\n",
    "> - **Cartographie des inégalités spatiales**\n",
    "\n",
    "Les données sont téléchargées ou scrappées en ligne, puis nettoyées et mises en forme dans le dossier *Data*. Le notebook principal est **Notebook_final**, qui fait appel à d'autres notebooks.\n",
    "\n",
    "## I. Récupération des données et nettoyage\n",
    "\n",
    "On se concentre sur deux bases de données. La première provient de data.gouv (https://www.data.gouv.fr/fr/datasets/demandes-de-valeurs-foncieres/), mise à disposition par Demande de valeurs foncières (DVF) et qui concerne l'ensemble des transactions foncières réalisées en France hors Alsace, Moselle et Mayotte. Le deuxième a été récoltée par nos soins en scrapant le site immobilier du Figaro (https://immobilier.lefigaro.fr/prix-immobilier/marseille/ville-13055#prix-quartier) concernant Marseille. L'objectif est de déterminer si l'une des bases est plus fiable que l'autre, et la distinction de nature entre ces données (transactions *réalisées* versus prix *affichés*) comporte aussi une valeur interprétative."
   ]
  },
  {
   "cell_type": "code",
   "execution_count": null,
   "id": "685ef7ca-575d-45e9-bd99-b0c0b2d891fe",
   "metadata": {},
   "outputs": [],
   "source": []
  }
 ],
 "metadata": {
  "kernelspec": {
   "display_name": "Python 3 (ipykernel)",
   "language": "python",
   "name": "python3"
  },
  "language_info": {
   "codemirror_mode": {
    "name": "ipython",
    "version": 3
   },
   "file_extension": ".py",
   "mimetype": "text/x-python",
   "name": "python",
   "nbconvert_exporter": "python",
   "pygments_lexer": "ipython3",
   "version": "3.10.4"
  }
 },
 "nbformat": 4,
 "nbformat_minor": 5
}
