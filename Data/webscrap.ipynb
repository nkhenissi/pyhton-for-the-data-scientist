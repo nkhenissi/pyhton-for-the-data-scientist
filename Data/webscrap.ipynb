{
 "cells": [
  {
   "cell_type": "code",
   "execution_count": 2,
   "metadata": {
    "id": "iqqWnAxSJCax"
   },
   "outputs": [],
   "source": [
    "import urllib\n",
    "import bs4\n",
    "import pandas as pd\n",
    "from urllib import request\n",
    "import numpy as np\n",
    "import csv"
   ]
  },
  {
   "cell_type": "code",
   "execution_count": 3,
   "metadata": {
    "id": "YN_lHfwSJLVL"
   },
   "outputs": [],
   "source": [
    "url=\"https://immobilier.lefigaro.fr/prix-immobilier/marseille/ville-13055#prix-quartier\""
   ]
  },
  {
   "cell_type": "code",
   "execution_count": 4,
   "metadata": {
    "colab": {
     "base_uri": "https://localhost:8080/"
    },
    "id": "tY5hPWL9LhYj",
    "outputId": "fabfa1bc-d9be-449a-f63b-856c3ea319b7"
   },
   "outputs": [
    {
     "name": "stderr",
     "output_type": "stream",
     "text": [
      "/tmp/ipykernel_1152/3927971424.py:27: FutureWarning: The frame.append method is deprecated and will be removed from pandas in a future version. Use pandas.concat instead.\n",
      "  df = df.append(cells, ignore_index=True)\n",
      "/opt/mamba/lib/python3.10/site-packages/pandas/core/internals/construction.py:568: VisibleDeprecationWarning: Creating an ndarray from ragged nested sequences (which is a list-or-tuple of lists-or-tuples-or ndarrays with different lengths or shapes) is deprecated. If you meant to do this, you must specify 'dtype=object' when creating the ndarray.\n",
      "  values = np.array([convert(v) for v in values])\n"
     ]
    }
   ],
   "source": [
    "import requests\n",
    "from bs4 import BeautifulSoup\n",
    "import pandas as pd\n",
    "\n",
    "# Envoi d'une requête HTTP GET à l'URL de la page web\n",
    "response = requests.get(url)\n",
    "\n",
    "# Vérification du code de retour de la requête\n",
    "if response.status_code == 200:\n",
    "    # Récupération du contenu HTML de la page\n",
    "    html_content = response.text\n",
    "    # Création d'un objet BeautifulSoup à partir du contenu HTML\n",
    "    soup = BeautifulSoup(html_content, \"html.parser\")\n",
    "    # Création d'un data frame vide\n",
    "    df = pd.DataFrame()\n",
    "    # Récupération des trois premières tables de la page\n",
    "    tables = soup.find_all(\"table\")[9:]\n",
    "    # Parcours de chaque table\n",
    "    for table in tables:\n",
    "        # Récupération des lignes de la table\n",
    "        rows = table.find_all(\"tr\")\n",
    "        # Parcours de chaque ligne\n",
    "        for row in rows:\n",
    "            # Récupération des cellules de la ligne\n",
    "            cells = row.find_all(\"td\")\n",
    "            # Ajout des cellules au data frame\n",
    "            df = df.append(cells, ignore_index=True)\n",
    "    # Enregistrement du data frame dans un fichier CSV ou Excel\n",
    "    #df.to_csv(\"output.csv\")\n",
    "    #df.to_excel(\"output.xlsx\")\n",
    "else:\n",
    "    print(\"Erreur lors de la récupération de la page\")\n"
   ]
  },
  {
   "cell_type": "code",
   "execution_count": 5,
   "metadata": {
    "colab": {
     "base_uri": "https://localhost:8080/"
    },
    "id": "0egDZjBxLm_Q",
    "outputId": "460b4b35-12f6-4659-f801-d2068855717f"
   },
   "outputs": [
    {
     "data": {
      "text/html": [
       "<div>\n",
       "<style scoped>\n",
       "    .dataframe tbody tr th:only-of-type {\n",
       "        vertical-align: middle;\n",
       "    }\n",
       "\n",
       "    .dataframe tbody tr th {\n",
       "        vertical-align: top;\n",
       "    }\n",
       "\n",
       "    .dataframe thead th {\n",
       "        text-align: right;\n",
       "    }\n",
       "</style>\n",
       "<table border=\"1\" class=\"dataframe\">\n",
       "  <thead>\n",
       "    <tr style=\"text-align: right;\">\n",
       "      <th></th>\n",
       "      <th>0</th>\n",
       "    </tr>\n",
       "  </thead>\n",
       "  <tbody>\n",
       "    <tr>\n",
       "      <th>0</th>\n",
       "      <td>Studios / 1 pièce</td>\n",
       "    </tr>\n",
       "    <tr>\n",
       "      <th>1</th>\n",
       "      <td>23 €/m2</td>\n",
       "    </tr>\n",
       "    <tr>\n",
       "      <th>2</th>\n",
       "      <td>2 pièces</td>\n",
       "    </tr>\n",
       "    <tr>\n",
       "      <th>3</th>\n",
       "      <td>17 €/m2</td>\n",
       "    </tr>\n",
       "    <tr>\n",
       "      <th>4</th>\n",
       "      <td>3 pièces</td>\n",
       "    </tr>\n",
       "    <tr>\n",
       "      <th>...</th>\n",
       "      <td>...</td>\n",
       "    </tr>\n",
       "    <tr>\n",
       "      <th>117</th>\n",
       "      <td>5 007 €/m2</td>\n",
       "    </tr>\n",
       "    <tr>\n",
       "      <th>118</th>\n",
       "      <td>20 €/m2</td>\n",
       "    </tr>\n",
       "    <tr>\n",
       "      <th>119</th>\n",
       "      <td>[[Périer]]</td>\n",
       "    </tr>\n",
       "    <tr>\n",
       "      <th>120</th>\n",
       "      <td>4 980 €/m2</td>\n",
       "    </tr>\n",
       "    <tr>\n",
       "      <th>121</th>\n",
       "      <td>20 €/m2</td>\n",
       "    </tr>\n",
       "  </tbody>\n",
       "</table>\n",
       "<p>122 rows × 1 columns</p>\n",
       "</div>"
      ],
      "text/plain": [
       "                     0\n",
       "0    Studios / 1 pièce\n",
       "1              23 €/m2\n",
       "2             2 pièces\n",
       "3              17 €/m2\n",
       "4             3 pièces\n",
       "..                 ...\n",
       "117         5 007 €/m2\n",
       "118            20 €/m2\n",
       "119         [[Périer]]\n",
       "120         4 980 €/m2\n",
       "121            20 €/m2\n",
       "\n",
       "[122 rows x 1 columns]"
      ]
     },
     "execution_count": 5,
     "metadata": {},
     "output_type": "execute_result"
    }
   ],
   "source": [
    "df"
   ]
  }
 ],
 "metadata": {
  "colab": {
   "provenance": []
  },
  "kernelspec": {
   "display_name": "Python 3 (ipykernel)",
   "language": "python",
   "name": "python3"
  },
  "language_info": {
   "codemirror_mode": {
    "name": "ipython",
    "version": 3
   },
   "file_extension": ".py",
   "mimetype": "text/x-python",
   "name": "python",
   "nbconvert_exporter": "python",
   "pygments_lexer": "ipython3",
   "version": "3.10.4"
  }
 },
 "nbformat": 4,
 "nbformat_minor": 4
}
