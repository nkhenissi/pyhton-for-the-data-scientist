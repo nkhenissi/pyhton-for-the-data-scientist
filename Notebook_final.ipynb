{
  "cells": [
    {
      "cell_type": "markdown",
      "id": "fbcbb11d-00ca-48ee-98f6-7d1f58f13cdd",
      "metadata": {
        "id": "fbcbb11d-00ca-48ee-98f6-7d1f58f13cdd"
      },
      "source": [
        "# Étude des prix du foncier à Marseille\n",
        "Kenza Miousset, Nour Khenissi, Antonin Henriet\n",
        "\n",
        "> ## Objectifs\n",
        "\n",
        "Nous souhaitions travailler sur les prix du foncier dans une ville de France, car cela nous permettait de mettre en place tous les aspects du projet demandé : webscraping, machine learning et visualisation dans l'espace. Néanmoins, nous ne voulions pas nous tourner vers Paris, qui est une ville beaucoup étudiée et où les inégalités socio-spatiales sont déjà bien documentées. L'idée de travailler sur Marseille nous est venue en remarquant que la cité phocéenne était aussi très inégalitaire : La valeur foncière varie beaucoup selon les quartiers dans lesquels on se trouve. Nous sommes donc partis de cette base pour tenter de décrire les inégalités socio-spatiales à Marseille en se fondant sur les prix du foncier.\n",
        "\n",
        "> ## Structure\n",
        "\n",
        "Ce projet se structure en 4 parties :\n",
        "> - **Webscraping et nettoyage des données**\n",
        "> - **Analyse exploratoire descriptive des données**\n",
        "> - **Modélisation de la valeur foncière en fonction des arrondissements**\n",
        "> - **Cartographie des inégalités spatiales**\n",
        "\n",
        "Les données sont téléchargées ou scrappées en ligne, puis nettoyées et mises en forme dans le dossier *Data*. Le notebook principal est **Notebook_final**, qui fait appel à d'autres notebooks."
      ]
    },
    {
      "cell_type": "markdown",
      "id": "8e216046-9265-4618-892d-a0cd23c5160e",
      "metadata": {
        "id": "8e216046-9265-4618-892d-a0cd23c5160e"
      },
      "source": [
        "### Importations"
      ]
    },
    {
      "cell_type": "code",
      "execution_count": null,
      "id": "21b723a5-8dad-4bcc-8b1b-780e7dad35ee",
      "metadata": {
        "id": "21b723a5-8dad-4bcc-8b1b-780e7dad35ee"
      },
      "outputs": [],
      "source": [
        "import pandas as pd\n",
        "import matplotlib.pyplot as plt\n",
        "import seaborn as sns\n",
        "from sklearn.svm import SVR\n",
        "from sklearn.ensemble import RandomForestRegressor"
      ]
    },
    {
      "cell_type": "markdown",
      "id": "1957b69d-59b4-4bcc-9a18-be818581d26b",
      "metadata": {
        "id": "1957b69d-59b4-4bcc-9a18-be818581d26b"
      },
      "source": [
        "## I. Récupération des données et nettoyage\n",
        "\n",
        "On se concentre sur deux bases de données. La première provient de data.gouv (https://www.data.gouv.fr/fr/datasets/demandes-de-valeurs-foncieres/), mise à disposition par Demande de valeurs foncières (DVF) et qui concerne l'ensemble des transactions foncières réalisées en France hors Alsace, Moselle et Mayotte. Le deuxième a été récoltée par nos soins en scrapant le site immobilier du Figaro (https://immobilier.lefigaro.fr/prix-immobilier/marseille/ville-13055#prix-quartier) concernant Marseille. L'objectif est de déterminer si l'une des bases est plus fiable que l'autre, et la distinction de nature entre ces données (transactions *réalisées* versus prix *affichés*) comporte aussi une valeur interprétative."
      ]
    },
    {
      "cell_type": "markdown",
      "id": "bc8f6542-6450-498e-af38-4392fb81a063",
      "metadata": {
        "id": "bc8f6542-6450-498e-af38-4392fb81a063"
      },
      "source": [
        "> ### DVF\n",
        "\n",
        "On récupère d'abord la base de données de Demande de valeurs foncières, présente dans le notebook *DVF.ipynb*."
      ]
    },
    {
      "cell_type": "code",
      "execution_count": null,
      "id": "acda66b6-8d07-45ea-ae1d-dcb0c26a299c",
      "metadata": {
        "id": "acda66b6-8d07-45ea-ae1d-dcb0c26a299c"
      },
      "outputs": [],
      "source": [
        "%run '~/work/pyhton-for-the-data-scientist/Data/DVF.ipynb'\n",
        "df_DVF=df5\n",
        "df_DVF"
      ]
    },
    {
      "cell_type": "markdown",
      "id": "d19c5562-f824-49e5-8369-e765a68555c7",
      "metadata": {
        "id": "d19c5562-f824-49e5-8369-e765a68555c7"
      },
      "source": [
        "Le nettoyage des données est consultable dans le notebook *Data.ipynb* du dossier Data. On a en somme importé les données, gardé les colonnes du dataframe qui nous intéressent, gardé les données concernan  les appartements, les données concernant les \"Ventes\" et les données concernant Marseille.\n",
        "\n",
        "On obtient donc 1143 observations concernant tous les arrondissements de Marseille"
      ]
    },
    {
      "cell_type": "markdown",
      "id": "2d57ce2a-059f-4bda-85c4-6c1f06a00952",
      "metadata": {
        "id": "2d57ce2a-059f-4bda-85c4-6c1f06a00952"
      },
      "source": [
        "> ### Scraping du site du Figaro\n"
      ]
    },
    {
      "cell_type": "markdown",
      "id": "b0bde947-5e0e-4a4b-9aac-4a95eaab9c10",
      "metadata": {
        "id": "b0bde947-5e0e-4a4b-9aac-4a95eaab9c10"
      },
      "source": [
        "Le code est présent dans le notebook *webscraping figaro v2-2.ipynb*, dans le dossier Data."
      ]
    },
    {
      "cell_type": "code",
      "execution_count": null,
      "id": "9bbe3419-cd2e-4807-b0fd-84705dc2e50d",
      "metadata": {
        "id": "9bbe3419-cd2e-4807-b0fd-84705dc2e50d",
        "outputId": "68928c2f-8bff-41c1-fb75-6e32274658d7"
      },
      "outputs": [
        {
          "name": "stdout",
          "output_type": "stream",
          "text": [
            "<table class=\"odTable odTableAuto\">\n",
            "<thead>\n",
            "<tr>\n",
            "<th class=\"odGradient\" style=\"width: 50%;\">Nombre de pièces</th>\n",
            "<th class=\"odGradient\" style=\"width: 50%;\">Prix au m2</th>\n",
            "</tr>\n",
            "</thead>\n",
            "<tbody>\n",
            "<tr>\n",
            "<td>Studios / 1 pièce</td>\n",
            "<td>4 457 €/m2</td>\n",
            "</tr>\n",
            "<tr>\n",
            "<td>2 pièces</td>\n",
            "<td>4 238 €/m2</td>\n",
            "</tr>\n",
            "<tr>\n",
            "<td>3 pièces</td>\n",
            "<td>3 738 €/m2</td>\n",
            "</tr>\n",
            "<tr>\n",
            "<td>4 pièces</td>\n",
            "<td>4 107 €/m2</td>\n",
            "</tr>\n",
            "<tr>\n",
            "<td>5 pièces</td>\n",
            "<td>4 530 €/m2</td>\n",
            "</tr>\n",
            "<tr>\n",
            "<td>6 pièces</td>\n",
            "<td>4 506 €/m2</td>\n",
            "</tr>\n",
            "<tr>\n",
            "<td>7 pièces et plus</td>\n",
            "<td>3 904 €/m2</td>\n",
            "</tr>\n",
            "</tbody>\n",
            "</table>\n",
            "<tr>\n",
            "<td>Studios / 1 pièce</td>\n",
            "<td>4 457 €/m2</td>\n",
            "</tr>\n",
            "<tr>\n",
            "<td>2 pièces</td>\n",
            "<td>4 238 €/m2</td>\n",
            "</tr>\n",
            "<td>2 pièces</td>\n",
            "2 pièces\n",
            "2 pièces\n",
            "4 238 €/m2\n",
            "['Studios / 1 pièce', '4\\xa0457 €/m2']\n",
            "['2 pièces', '4\\xa0238 €/m2']\n",
            "['3 pièces', '3\\xa0738 €/m2']\n",
            "['4 pièces', '4\\xa0107 €/m2']\n",
            "['5 pièces', '4\\xa0530 €/m2']\n",
            "['6 pièces', '4\\xa0506 €/m2']\n",
            "['7 pièces et plus', '3\\xa0904 €/m2']\n",
            "<tr>\n",
            "<td><strong><a href=\"https://immobilier.lefigaro.fr/prix-immobilier/marseille-1er-arrondissement/arrondissement-13201\" title=\"prix m2 Marseille 1er Arrondissement\">Marseille 1er Arrondissement</a></strong></td><td>3 610 €/m2</td><td>17 €/m2</td>\n",
            "</tr>\n",
            "<tr>\n",
            "<td><strong><a href=\"https://immobilier.lefigaro.fr/prix-immobilier/marseille-2e-arrondissement/arrondissement-13202\" title=\"prix m2 Marseille 2e Arrondissement\">Marseille 2e Arrondissement</a></strong></td><td>3 967 €/m2</td><td>17 €/m2</td>\n",
            "</tr>\n",
            "<td><strong><a href=\"https://immobilier.lefigaro.fr/prix-immobilier/marseille-2e-arrondissement/arrondissement-13202\" title=\"prix m2 Marseille 2e Arrondissement\">Marseille 2e Arrondissement</a></strong></td>\n",
            "Marseille 2e Arrondissement\n",
            "Marseille 2e Arrondissement\n",
            "3 967 €/m2\n",
            "17 €/m2\n",
            "['Marseille 1er Arrondissement', '3\\xa0610 €/m2', '17 €/m2']\n",
            "['Marseille 2e Arrondissement', '3\\xa0967 €/m2', '17 €/m2']\n",
            "['Marseille 3e Arrondissement', '2\\xa0171 €/m2', '16 €/m2']\n",
            "['Marseille 4e Arrondissement', '3\\xa0321 €/m2', '16 €/m2']\n",
            "['Marseille 5e Arrondissement', '3\\xa0784 €/m2', '18 €/m2']\n",
            "['Marseille 6e Arrondissement', '4\\xa0316 €/m2', '18 €/m2']\n",
            "['Marseille 7e Arrondissement', '5\\xa0603 €/m2', '19 €/m2']\n",
            "['Marseille 8e Arrondissement', '5\\xa0686 €/m2', '18 €/m2']\n",
            "['Marseille 9e Arrondissement', '4\\xa0529 €/m2', '17 €/m2']\n",
            "['Marseille 10e Arrondissement', '3\\xa0531 €/m2', '16 €/m2']\n",
            "['Marseille 11e Arrondissement', '4\\xa0264 €/m2', '16 €/m2']\n",
            "['Marseille 12e Arrondissement', '4\\xa0447 €/m2', '16 €/m2']\n",
            "['Marseille 13e Arrondissement', '3\\xa0781 €/m2', '16 €/m2']\n",
            "['Marseille 14e Arrondissement', '2\\xa0517 €/m2', '14 €/m2']\n",
            "['Marseille 15e Arrondissement', '2\\xa0269 €/m2', '14 €/m2']\n",
            "['Marseille 16e Arrondissement', '3\\xa0222 €/m2', '16 €/m2']\n",
            "<table class=\"odTable odTableAuto\">\n",
            "<thead>\n",
            "<tr>\n",
            "<th class=\"odGradient\" style=\"width:50%;\">Quartier</th>\n",
            "<th class=\"odGradient\" style=\"width:25%;\">Prix m2</th>\n",
            "<th class=\"odGradient\" style=\"width:25%;\">Loyer m2</th>\n",
            "</tr>\n",
            "</thead>\n",
            "<tbody>\n",
            "<tr>\n",
            "<td><strong><a href=\"https://immobilier.lefigaro.fr/prix-immobilier/le-roucas-blanc/quartier-3704024746032128\" title=\"prix m2 Marseille Le Roucas Blanc\">Le Roucas Blanc</a></strong></td><td>7 148 €/m2</td><td>23 €/m2</td>\n",
            "</tr>\n",
            "<tr>\n",
            "<td><strong><a href=\"https://immobilier.lefigaro.fr/prix-immobilier/bompard/quartier-3704024744590336\" title=\"prix m2 Marseille Bompard\">Bompard</a></strong></td><td>6 545 €/m2</td><td>19 €/m2</td>\n",
            "</tr>\n",
            "<tr>\n",
            "<td><strong><a href=\"https://immobilier.lefigaro.fr/prix-immobilier/la-plage/quartier-3704024654199808\" title=\"prix m2 Marseille La Plage\">La Plage</a></strong></td><td>6 335 €/m2</td><td>23 €/m2</td>\n",
            "</tr>\n",
            "<tr>\n",
            "<td><strong><a href=\"https://immobilier.lefigaro.fr/prix-immobilier/sainte-anne/quartier-3704024657673216\" title=\"prix m2 Marseille Sainte Anne\">Sainte Anne</a></strong></td><td>6 263 €/m2</td><td>17 €/m2</td>\n",
            "</tr>\n",
            "<tr>\n",
            "<td><strong><a href=\"https://immobilier.lefigaro.fr/prix-immobilier/endoume/quartier-3704024745098240\" title=\"prix m2 Marseille Endoume\">Endoume</a></strong></td><td>5 987 €/m2</td><td>20 €/m2</td>\n",
            "</tr>\n",
            "<tr>\n",
            "<td><strong><a href=\"https://immobilier.lefigaro.fr/prix-immobilier/vieille-chapelle/quartier-3704024658377728\" title=\"prix m2 Marseille Vieille Chapelle\">Vieille Chapelle</a></strong></td><td>5 975 €/m2</td><td>18 €/m2</td>\n",
            "</tr>\n",
            "<tr>\n",
            "<td><strong><a href=\"https://immobilier.lefigaro.fr/prix-immobilier/montredon/quartier-3704024655690752\" title=\"prix m2 Marseille Montredon\">Montredon</a></strong></td><td>5 771 €/m2</td><td>19 €/m2</td>\n",
            "</tr>\n",
            "<tr>\n",
            "<td><strong><a href=\"https://immobilier.lefigaro.fr/prix-immobilier/le-pharo/quartier-3704024745573376\" title=\"prix m2 Marseille Le Pharo\">Le Pharo</a></strong></td><td>5 594 €/m2</td><td>18 €/m2</td>\n",
            "</tr>\n",
            "<tr>\n",
            "<td><strong><a href=\"https://immobilier.lefigaro.fr/prix-immobilier/bonneveine/quartier-3704024653609984\" title=\"prix m2 Marseille Bonneveine\">Bonneveine</a></strong></td><td>5 509 €/m2</td><td>17 €/m2</td>\n",
            "</tr>\n",
            "<tr>\n",
            "<td><strong><a href=\"https://immobilier.lefigaro.fr/prix-immobilier/saint-lambert/quartier-3704024747015168\" title=\"prix m2 Marseille Saint Lambert\">Saint Lambert</a></strong></td><td>5 470 €/m2</td><td>19 €/m2</td>\n",
            "</tr>\n",
            "<tr>\n",
            "<td><strong><a href=\"https://immobilier.lefigaro.fr/prix-immobilier/saint-giniez/quartier-3704024657214464\" title=\"prix m2 Marseille Saint Giniez\">Saint Giniez</a></strong></td><td>5 458 €/m2</td><td>20 €/m2</td>\n",
            "</tr>\n",
            "<tr>\n",
            "<td><strong><a href=\"https://immobilier.lefigaro.fr/prix-immobilier/pointe-rouge/quartier-3704024656706560\" title=\"prix m2 Marseille Pointe Rouge\">Pointe Rouge</a></strong></td><td>5 263 €/m2</td><td>17 €/m2</td>\n",
            "</tr>\n",
            "<tr>\n",
            "<td><strong><a href=\"https://immobilier.lefigaro.fr/prix-immobilier/la-treille/quartier-3704024892832768\" title=\"prix m2 Marseille La Treille\">La Treille</a></strong></td><td>5 206 €/m2</td><td>17 €/m2</td>\n",
            "</tr>\n",
            "<tr>\n",
            "<td><strong><a href=\"https://immobilier.lefigaro.fr/prix-immobilier/les-accates/quartier-3704024894569472\" title=\"prix m2 Marseille Les Accates\">Les Accates</a></strong></td><td>5 092 €/m2</td><td>17 €/m2</td>\n",
            "</tr>\n",
            "<tr>\n",
            "<td><strong><a href=\"https://immobilier.lefigaro.fr/prix-immobilier/vauban/quartier-3704024739740672\" title=\"prix m2 Marseille Vauban\">Vauban</a></strong></td><td>5 090 €/m2</td><td>18 €/m2</td>\n",
            "</tr>\n",
            "<tr>\n",
            "<td><strong><a href=\"https://immobilier.lefigaro.fr/prix-immobilier/eoures/quartier-3704024890752000\" title=\"prix m2 Marseille Eoures\">Eoures</a></strong></td><td>5 089 €/m2</td><td>18 €/m2</td>\n",
            "</tr>\n",
            "<tr>\n",
            "<td><strong><a href=\"https://immobilier.lefigaro.fr/prix-immobilier/les-iles/quartier-3704024746507264\" title=\"prix m2 Marseille Les îles\">Les îles</a></strong></td><td>5 060 €/m2</td><td>-</td>\n",
            "</tr>\n",
            "<tr>\n",
            "<td><strong><a href=\"https://immobilier.lefigaro.fr/prix-immobilier/saint-victor/quartier-3704024747490304\" title=\"prix m2 Marseille Saint Victor\">Saint Victor</a></strong></td><td>5 030 €/m2</td><td>19 €/m2</td>\n",
            "</tr>\n",
            "<tr>\n",
            "<td><strong><a href=\"https://immobilier.lefigaro.fr/prix-immobilier/vaufreges/quartier-3704024680037376\" title=\"prix m2 Marseille Vaufrèges\">Vaufrèges</a></strong></td><td>5 007 €/m2</td><td>20 €/m2</td>\n",
            "</tr>\n",
            "<tr>\n",
            "<td><strong><a href=\"https://immobilier.lefigaro.fr/prix-immobilier/perier/quartier-3704024656231424\" title=\"prix m2 Marseille Périer\">Périer</a></strong></td><td>4 980 €/m2</td><td>20 €/m2</td>\n",
            "</tr>\n",
            "</tbody>\n",
            "</table>\n",
            "<tr>\n",
            "<td><strong><a href=\"https://immobilier.lefigaro.fr/prix-immobilier/le-roucas-blanc/quartier-3704024746032128\" title=\"prix m2 Marseille Le Roucas Blanc\">Le Roucas Blanc</a></strong></td><td>7 148 €/m2</td><td>23 €/m2</td>\n",
            "</tr>\n",
            "<tr>\n",
            "<td><strong><a href=\"https://immobilier.lefigaro.fr/prix-immobilier/bompard/quartier-3704024744590336\" title=\"prix m2 Marseille Bompard\">Bompard</a></strong></td><td>6 545 €/m2</td><td>19 €/m2</td>\n",
            "</tr>\n",
            "<td><strong><a href=\"https://immobilier.lefigaro.fr/prix-immobilier/bompard/quartier-3704024744590336\" title=\"prix m2 Marseille Bompard\">Bompard</a></strong></td>\n",
            "Bompard\n",
            "Bompard\n",
            "6 545 €/m2\n",
            "19 €/m2\n",
            "['Le Roucas Blanc', '7\\xa0148 €/m2', '23 €/m2']\n",
            "['Bompard', '6\\xa0545 €/m2', '19 €/m2']\n",
            "['La Plage', '6\\xa0335 €/m2', '23 €/m2']\n",
            "['Sainte Anne', '6\\xa0263 €/m2', '17 €/m2']\n",
            "['Endoume', '5\\xa0987 €/m2', '20 €/m2']\n",
            "['Vieille Chapelle', '5\\xa0975 €/m2', '18 €/m2']\n",
            "['Montredon', '5\\xa0771 €/m2', '19 €/m2']\n",
            "['Le Pharo', '5\\xa0594 €/m2', '18 €/m2']\n",
            "['Bonneveine', '5\\xa0509 €/m2', '17 €/m2']\n",
            "['Saint Lambert', '5\\xa0470 €/m2', '19 €/m2']\n",
            "['Saint Giniez', '5\\xa0458 €/m2', '20 €/m2']\n",
            "['Pointe Rouge', '5\\xa0263 €/m2', '17 €/m2']\n",
            "['La Treille', '5\\xa0206 €/m2', '17 €/m2']\n",
            "['Les Accates', '5\\xa0092 €/m2', '17 €/m2']\n",
            "['Vauban', '5\\xa0090 €/m2', '18 €/m2']\n",
            "['Eoures', '5\\xa0089 €/m2', '18 €/m2']\n",
            "['Les îles', '5\\xa0060 €/m2', '-']\n",
            "['Saint Victor', '5\\xa0030 €/m2', '19 €/m2']\n",
            "['Vaufrèges', '5\\xa0007 €/m2', '20 €/m2']\n",
            "['Périer', '4\\xa0980 €/m2', '20 €/m2']\n"
          ]
        },
        {
          "data": {
            "text/html": [
              "<div>\n",
              "<style scoped>\n",
              "    .dataframe tbody tr th:only-of-type {\n",
              "        vertical-align: middle;\n",
              "    }\n",
              "\n",
              "    .dataframe tbody tr th {\n",
              "        vertical-align: top;\n",
              "    }\n",
              "\n",
              "    .dataframe thead th {\n",
              "        text-align: right;\n",
              "    }\n",
              "</style>\n",
              "<table border=\"1\" class=\"dataframe\">\n",
              "  <thead>\n",
              "    <tr style=\"text-align: right;\">\n",
              "      <th></th>\n",
              "      <th>prix m2</th>\n",
              "      <th>loyer m2</th>\n",
              "    </tr>\n",
              "  </thead>\n",
              "  <tbody>\n",
              "    <tr>\n",
              "      <th>Marseille 1er Arrondissement</th>\n",
              "      <td>3 610 €/m2</td>\n",
              "      <td>17 €/m2</td>\n",
              "    </tr>\n",
              "    <tr>\n",
              "      <th>Marseille 2e Arrondissement</th>\n",
              "      <td>3 967 €/m2</td>\n",
              "      <td>17 €/m2</td>\n",
              "    </tr>\n",
              "    <tr>\n",
              "      <th>Marseille 3e Arrondissement</th>\n",
              "      <td>2 171 €/m2</td>\n",
              "      <td>16 €/m2</td>\n",
              "    </tr>\n",
              "    <tr>\n",
              "      <th>Marseille 4e Arrondissement</th>\n",
              "      <td>3 321 €/m2</td>\n",
              "      <td>16 €/m2</td>\n",
              "    </tr>\n",
              "    <tr>\n",
              "      <th>Marseille 5e Arrondissement</th>\n",
              "      <td>3 784 €/m2</td>\n",
              "      <td>18 €/m2</td>\n",
              "    </tr>\n",
              "    <tr>\n",
              "      <th>Marseille 6e Arrondissement</th>\n",
              "      <td>4 316 €/m2</td>\n",
              "      <td>18 €/m2</td>\n",
              "    </tr>\n",
              "    <tr>\n",
              "      <th>Marseille 7e Arrondissement</th>\n",
              "      <td>5 603 €/m2</td>\n",
              "      <td>19 €/m2</td>\n",
              "    </tr>\n",
              "    <tr>\n",
              "      <th>Marseille 8e Arrondissement</th>\n",
              "      <td>5 686 €/m2</td>\n",
              "      <td>18 €/m2</td>\n",
              "    </tr>\n",
              "    <tr>\n",
              "      <th>Marseille 9e Arrondissement</th>\n",
              "      <td>4 529 €/m2</td>\n",
              "      <td>17 €/m2</td>\n",
              "    </tr>\n",
              "    <tr>\n",
              "      <th>Marseille 10e Arrondissement</th>\n",
              "      <td>3 531 €/m2</td>\n",
              "      <td>16 €/m2</td>\n",
              "    </tr>\n",
              "    <tr>\n",
              "      <th>Marseille 11e Arrondissement</th>\n",
              "      <td>4 264 €/m2</td>\n",
              "      <td>16 €/m2</td>\n",
              "    </tr>\n",
              "    <tr>\n",
              "      <th>Marseille 12e Arrondissement</th>\n",
              "      <td>4 447 €/m2</td>\n",
              "      <td>16 €/m2</td>\n",
              "    </tr>\n",
              "    <tr>\n",
              "      <th>Marseille 13e Arrondissement</th>\n",
              "      <td>3 781 €/m2</td>\n",
              "      <td>16 €/m2</td>\n",
              "    </tr>\n",
              "    <tr>\n",
              "      <th>Marseille 14e Arrondissement</th>\n",
              "      <td>2 517 €/m2</td>\n",
              "      <td>14 €/m2</td>\n",
              "    </tr>\n",
              "    <tr>\n",
              "      <th>Marseille 15e Arrondissement</th>\n",
              "      <td>2 269 €/m2</td>\n",
              "      <td>14 €/m2</td>\n",
              "    </tr>\n",
              "    <tr>\n",
              "      <th>Marseille 16e Arrondissement</th>\n",
              "      <td>3 222 €/m2</td>\n",
              "      <td>16 €/m2</td>\n",
              "    </tr>\n",
              "  </tbody>\n",
              "</table>\n",
              "</div>"
            ],
            "text/plain": [
              "                                 prix m2 loyer m2\n",
              "Marseille 1er Arrondissement  3 610 €/m2  17 €/m2\n",
              "Marseille 2e Arrondissement   3 967 €/m2  17 €/m2\n",
              "Marseille 3e Arrondissement   2 171 €/m2  16 €/m2\n",
              "Marseille 4e Arrondissement   3 321 €/m2  16 €/m2\n",
              "Marseille 5e Arrondissement   3 784 €/m2  18 €/m2\n",
              "Marseille 6e Arrondissement   4 316 €/m2  18 €/m2\n",
              "Marseille 7e Arrondissement   5 603 €/m2  19 €/m2\n",
              "Marseille 8e Arrondissement   5 686 €/m2  18 €/m2\n",
              "Marseille 9e Arrondissement   4 529 €/m2  17 €/m2\n",
              "Marseille 10e Arrondissement  3 531 €/m2  16 €/m2\n",
              "Marseille 11e Arrondissement  4 264 €/m2  16 €/m2\n",
              "Marseille 12e Arrondissement  4 447 €/m2  16 €/m2\n",
              "Marseille 13e Arrondissement  3 781 €/m2  16 €/m2\n",
              "Marseille 14e Arrondissement  2 517 €/m2  14 €/m2\n",
              "Marseille 15e Arrondissement  2 269 €/m2  14 €/m2\n",
              "Marseille 16e Arrondissement  3 222 €/m2  16 €/m2"
            ]
          },
          "execution_count": 16,
          "metadata": {},
          "output_type": "execute_result"
        }
      ],
      "source": [
        "%run '~/work/pyhton-for-the-data-scientist/Data/webscraping figaro v2-2.ipynb'\n",
        "data_arr"
      ]
    },
    {
      "cell_type": "markdown",
      "id": "559541b5-418a-459e-80b0-9c365c367974",
      "metadata": {
        "id": "559541b5-418a-459e-80b0-9c365c367974"
      },
      "source": [
        "Le dataframe qu'on obtient, *data_arr*, paraît plus cohérent que le dataframe *df_DVF*."
      ]
    },
    {
      "cell_type": "markdown",
      "id": "cbbb1ae1-edaa-4b77-8f30-efdf30c6afd3",
      "metadata": {
        "id": "cbbb1ae1-edaa-4b77-8f30-efdf30c6afd3"
      },
      "source": [
        "## II. Analyse descriptive exploratoire\n",
        "\n"
      ]
    },
    {
      "cell_type": "code",
      "execution_count": null,
      "id": "9856dee2-9e2e-45fa-b526-92aa1d899337",
      "metadata": {
        "id": "9856dee2-9e2e-45fa-b526-92aa1d899337",
        "outputId": "17ed2350-3cd0-435e-b113-1a25c1ae12e4"
      },
      "outputs": [
        {
          "name": "stdout",
          "output_type": "stream",
          "text": [
            "Code service sages            100.000000\n",
            "Reference document            100.000000\n",
            "1 Articles CGI                100.000000\n",
            "2 Articles CGI                100.000000\n",
            "3 Articles CGI                100.000000\n",
            "4 Articles CGI                100.000000\n",
            "5 Articles CGI                100.000000\n",
            "No disposition                  0.000000\n",
            "Date mutation                   0.000000\n",
            "Nature mutation                 0.000000\n",
            "Valeur fonciere                 0.915336\n",
            "No voie                        35.686981\n",
            "B/T/Q                          95.316833\n",
            "Type de voie                   38.409037\n",
            "Code voie                       0.767595\n",
            "Voie                            0.772418\n",
            "Code postal                     0.770589\n",
            "Commune                         0.000000\n",
            "Code departement                0.000000\n",
            "Code commune                    0.000000\n",
            "Prefixe de section             95.549758\n",
            "Section                         0.004091\n",
            "No plan                         0.000000\n",
            "No Volume                      99.783828\n",
            "1er lot                        68.971616\n",
            "Surface Carrez du 1er lot      91.121755\n",
            "2eme lot                       90.870043\n",
            "Surface Carrez du 2eme lot     97.137632\n",
            "3eme lot                       98.332862\n",
            "Surface Carrez du 3eme lot     99.675102\n",
            "4eme lot                       99.463753\n",
            "Surface Carrez du 4eme lot     99.919684\n",
            "5eme lot                       99.768743\n",
            "Surface Carrez du 5eme lot     99.971841\n",
            "Nombre de lots                  0.000000\n",
            "Code type local                40.541865\n",
            "Type local                     40.541865\n",
            "Identifiant local             100.000000\n",
            "Surface reelle bati            40.599576\n",
            "Nombre pieces principales      40.599576\n",
            "Nature culture                 31.467036\n",
            "Nature culture speciale        95.846772\n",
            "Surface terrain                31.467036\n",
            "dtype: float64\n"
          ]
        },
        {
          "data": {
            "text/plain": [
              "<Figure size 1600x800 with 0 Axes>"
            ]
          },
          "metadata": {},
          "output_type": "display_data"
        },
        {
          "data": {
            "image/png": "[encoded data removed]",
            "text/plain": [
              "<Figure size 1000x500 with 1 Axes>"
            ]
          },
          "metadata": {},
          "output_type": "display_data"
        }
      ],
      "source": [
        "%run '~/work/pyhton-for-the-data-scientist/Statdes.ipynb'"
      ]
    },
    {
      "cell_type": "markdown",
      "id": "f9ff18a1-5fba-467b-8441-f06f42215af5",
      "metadata": {
        "id": "f9ff18a1-5fba-467b-8441-f06f42215af5"
      },
      "source": [
        "Ainsi, les biens immobiliers construits dont le prix de vente au $m{^2}$ était le plus élevé en 2021 se situent dans les premiers arrondissements de Marseille, en particulier le 6ème, le 1er, le 3ème et le 5ème. On doit cependant considérer que les maisons ne sont ici pas prises en compte, ce qui changerait certainement l'ordre de ces arrondissements."
      ]
    },
    {
      "cell_type": "markdown",
      "id": "056105a9-ab0a-407d-87a4-a2149bc28a11",
      "metadata": {
        "id": "056105a9-ab0a-407d-87a4-a2149bc28a11"
      },
      "source": [
        "## Modélisations des prix des valeurs foncières\n",
        "\n"
      ]
    },
    {
      "cell_type": "code",
      "execution_count": null,
      "metadata": {
        "id": "nGNys5dE1brU"
      },
      "outputs": [],
      "source": [
        "#Le code est présent dans le notebook *Modelisation.ipynb"
      ],
      "id": "nGNys5dE1brU"
    },
    {
      "cell_type": "code",
      "source": [
        "!git clone https://github.com/nkhenissi/pyhton-for-the-data-scientist.git"
      ],
      "metadata": {
        "id": "c6Uz6vtv-yGa"
      },
      "id": "c6Uz6vtv-yGa",
      "execution_count": null,
      "outputs": []
    },
    {
      "cell_type": "code",
      "source": [
        "%cd pyhton-for-the-data-scientist\n"
      ],
      "metadata": {
        "id": "cYOcaVkH_jA-",
        "outputId": "ba6e2cce-8448-4fef-b5c0-cedcd15e1c03",
        "colab": {
          "base_uri": "https://localhost:8080/"
        }
      },
      "id": "cYOcaVkH_jA-",
      "execution_count": 9,
      "outputs": [
        {
          "output_type": "stream",
          "name": "stdout",
          "text": [
            "/content/pyhton-for-the-data-scientist\n"
          ]
        }
      ]
    },
    {
      "cell_type": "code",
      "source": [
        "%run Modelisation.ipynb"
      ],
      "metadata": {
        "id": "dySOyWND1pjf",
        "colab": {
          "base_uri": "https://localhost:8080/",
          "height": 1000
        },
        "outputId": "910274b9-e838-41e2-f560-c307f6216171"
      },
      "execution_count": 10,
      "outputs": [
        {
          "output_type": "stream",
          "name": "stderr",
          "text": [
            "/usr/local/lib/python3.8/dist-packages/IPython/core/interactiveshell.py:3326: DtypeWarning: Columns (18,23,24,26,28,30,31,33,41) have mixed types.Specify dtype option on import or set low_memory=False.\n",
            "  exec(code_obj, self.user_global_ns, self.user_ns)\n"
          ]
        },
        {
          "output_type": "stream",
          "name": "stdout",
          "text": [
            "        Code service sages  Reference document  1 Articles CGI  \\\n",
            "count                  0.0                 0.0             0.0   \n",
            "unique                 NaN                 NaN             NaN   \n",
            "top                    NaN                 NaN             NaN   \n",
            "freq                   NaN                 NaN             NaN   \n",
            "mean                   NaN                 NaN             NaN   \n",
            "std                    NaN                 NaN             NaN   \n",
            "min                    NaN                 NaN             NaN   \n",
            "25%                    NaN                 NaN             NaN   \n",
            "50%                    NaN                 NaN             NaN   \n",
            "75%                    NaN                 NaN             NaN   \n",
            "max                    NaN                 NaN             NaN   \n",
            "\n",
            "        2 Articles CGI  3 Articles CGI  4 Articles CGI  5 Articles CGI  \\\n",
            "count              0.0             0.0             0.0             0.0   \n",
            "unique             NaN             NaN             NaN             NaN   \n",
            "top                NaN             NaN             NaN             NaN   \n",
            "freq               NaN             NaN             NaN             NaN   \n",
            "mean               NaN             NaN             NaN             NaN   \n",
            "std                NaN             NaN             NaN             NaN   \n",
            "min                NaN             NaN             NaN             NaN   \n",
            "25%                NaN             NaN             NaN             NaN   \n",
            "50%                NaN             NaN             NaN             NaN   \n",
            "75%                NaN             NaN             NaN             NaN   \n",
            "max                NaN             NaN             NaN             NaN   \n",
            "\n",
            "        No disposition Date mutation Nature mutation Valeur fonciere  \\\n",
            "count     4.375223e+06       4375223         4375223         4335175   \n",
            "unique             NaN           364               6          158220   \n",
            "top                NaN    29/07/2021           Vente       150000,00   \n",
            "freq               NaN         50823         4047675           36174   \n",
            "mean      1.325654e+00           NaN             NaN             NaN   \n",
            "std       4.933802e+00           NaN             NaN             NaN   \n",
            "min       1.000000e+00           NaN             NaN             NaN   \n",
            "25%       1.000000e+00           NaN             NaN             NaN   \n",
            "50%       1.000000e+00           NaN             NaN             NaN   \n",
            "75%       1.000000e+00           NaN             NaN             NaN   \n",
            "max       1.980000e+02           NaN             NaN             NaN   \n",
            "\n",
            "             No voie   B/T/Q Type de voie Code voie        Voie Code postal  \\\n",
            "count   2.813838e+06  204899      2694742   4341639     4341428     4341508   \n",
            "unique           NaN      38          138     16410      481358        5862   \n",
            "top              NaN       B          RUE      0040  LE VILLAGE       25000   \n",
            "freq             NaN  114665      1522636     22059       39824       19732   \n",
            "mean    7.188059e+02     NaN          NaN       NaN         NaN         NaN   \n",
            "std     2.011571e+03     NaN          NaN       NaN         NaN         NaN   \n",
            "min     1.000000e+00     NaN          NaN       NaN         NaN         NaN   \n",
            "25%     8.000000e+00     NaN          NaN       NaN         NaN         NaN   \n",
            "50%     2.500000e+01     NaN          NaN       NaN         NaN         NaN   \n",
            "75%     1.000000e+02     NaN          NaN       NaN         NaN         NaN   \n",
            "max     9.999000e+03     NaN          NaN       NaN         NaN         NaN   \n",
            "\n",
            "         Commune  Code departement  Code commune  Prefixe de section  Section  \\\n",
            "count    4375223         4375223.0  4.375223e+06       194708.000000  4375044   \n",
            "unique     30934              99.0           NaN                 NaN      587   \n",
            "top     TOULOUSE              59.0           NaN                 NaN        A   \n",
            "freq       32210          127741.0           NaN                 NaN   316654   \n",
            "mean         NaN               NaN  2.092508e+02          437.637827      NaN   \n",
            "std          NaN               NaN  1.677548e+02          314.707578      NaN   \n",
            "min          NaN               NaN  1.000000e+00            1.000000      NaN   \n",
            "25%          NaN               NaN  7.500000e+01          165.000000      NaN   \n",
            "50%          NaN               NaN  1.720000e+02          323.000000      NaN   \n",
            "75%          NaN               NaN  3.000000e+02          822.000000      NaN   \n",
            "max          NaN               NaN  9.090000e+02          950.000000      NaN   \n",
            "\n",
            "             No plan  No Volume    1er lot Surface Carrez du 1er lot  \\\n",
            "count   4.375223e+06     9458.0  1357561.0                    388443   \n",
            "unique           NaN      931.0    13129.0                     18677   \n",
            "top              NaN        1.0        1.0                     12,50   \n",
            "freq             NaN     1881.0    36651.0                      1205   \n",
            "mean    4.153374e+02        NaN        NaN                       NaN   \n",
            "std     5.901918e+02        NaN        NaN                       NaN   \n",
            "min     1.000000e+00        NaN        NaN                       NaN   \n",
            "25%     8.600000e+01        NaN        NaN                       NaN   \n",
            "50%     2.230000e+02        NaN        NaN                       NaN   \n",
            "75%     5.060000e+02        NaN        NaN                       NaN   \n",
            "max     9.873000e+03        NaN        NaN                       NaN   \n",
            "\n",
            "        2eme lot Surface Carrez du 2eme lot  3eme lot  \\\n",
            "count   399456.0                     125235   72941.0   \n",
            "unique    6091.0                      12310    1594.0   \n",
            "top          6.0                      65,00       5.0   \n",
            "freq      9800.0                        112    3490.0   \n",
            "mean         NaN                        NaN       NaN   \n",
            "std          NaN                        NaN       NaN   \n",
            "min          NaN                        NaN       NaN   \n",
            "25%          NaN                        NaN       NaN   \n",
            "50%          NaN                        NaN       NaN   \n",
            "75%          NaN                        NaN       NaN   \n",
            "max          NaN                        NaN       NaN   \n",
            "\n",
            "       Surface Carrez du 3eme lot  4eme lot Surface Carrez du 4eme lot  \\\n",
            "count                       14215   23462.0                       3514   \n",
            "unique                       5108     804.0                       1576   \n",
            "top                         12,50       6.0                      18,20   \n",
            "freq                           37    1471.0                         38   \n",
            "mean                          NaN       NaN                        NaN   \n",
            "std                           NaN       NaN                        NaN   \n",
            "min                           NaN       NaN                        NaN   \n",
            "25%                           NaN       NaN                        NaN   \n",
            "50%                           NaN       NaN                        NaN   \n",
            "75%                           NaN       NaN                        NaN   \n",
            "max                           NaN       NaN                        NaN   \n",
            "\n",
            "             5eme lot Surface Carrez du 5eme lot  Nombre de lots  \\\n",
            "count    10118.000000                       1232    4.375223e+06   \n",
            "unique            NaN                        616             NaN   \n",
            "top               NaN                      40,50             NaN   \n",
            "freq              NaN                         38             NaN   \n",
            "mean        96.812512                        NaN    4.310839e-01   \n",
            "std       1307.522900                        NaN    8.331728e-01   \n",
            "min          2.000000                        NaN    0.000000e+00   \n",
            "25%          7.000000                        NaN    0.000000e+00   \n",
            "50%         19.000000                        NaN    0.000000e+00   \n",
            "75%         51.000000                        NaN    1.000000e+00   \n",
            "max     121205.000000                        NaN    1.900000e+02   \n",
            "\n",
            "        Code type local  Type local  Identifiant local  Surface reelle bati  \\\n",
            "count      2.601426e+06     2601426                0.0         2.598901e+06   \n",
            "unique              NaN           4                NaN                  NaN   \n",
            "top                 NaN  Dépendance                NaN                  NaN   \n",
            "freq                NaN     1056828                NaN                  NaN   \n",
            "mean       2.209693e+00         NaN                NaN         6.888919e+01   \n",
            "std        9.351654e-01         NaN                NaN         5.978159e+02   \n",
            "min        1.000000e+00         NaN                NaN         0.000000e+00   \n",
            "25%        1.000000e+00         NaN                NaN         0.000000e+00   \n",
            "50%        2.000000e+00         NaN                NaN         3.900000e+01   \n",
            "75%        3.000000e+00         NaN                NaN         8.500000e+01   \n",
            "max        4.000000e+00         NaN                NaN         2.375000e+05   \n",
            "\n",
            "        Nombre pieces principales Nature culture Nature culture speciale  \\\n",
            "count                2.598901e+06        2998470                  181713   \n",
            "unique                        NaN             27                     124   \n",
            "top                           NaN              S                   POTAG   \n",
            "freq                          NaN        1545083                   44312   \n",
            "mean                 1.904886e+00            NaN                     NaN   \n",
            "std                  2.125924e+00            NaN                     NaN   \n",
            "min                  0.000000e+00            NaN                     NaN   \n",
            "25%                  0.000000e+00            NaN                     NaN   \n",
            "50%                  1.000000e+00            NaN                     NaN   \n",
            "75%                  4.000000e+00            NaN                     NaN   \n",
            "max                  9.500000e+01            NaN                     NaN   \n",
            "\n",
            "        Surface terrain  \n",
            "count      2.998470e+06  \n",
            "unique              NaN  \n",
            "top                 NaN  \n",
            "freq                NaN  \n",
            "mean       2.601758e+03  \n",
            "std        1.068309e+04  \n",
            "min        0.000000e+00  \n",
            "25%        2.460000e+02  \n",
            "50%        6.070000e+02  \n",
            "75%        1.630000e+03  \n",
            "max        3.166090e+06  \n",
            "Code service sages            100.000000\n",
            "Reference document            100.000000\n",
            "1 Articles CGI                100.000000\n",
            "2 Articles CGI                100.000000\n",
            "3 Articles CGI                100.000000\n",
            "4 Articles CGI                100.000000\n",
            "5 Articles CGI                100.000000\n",
            "No disposition                  0.000000\n",
            "Date mutation                   0.000000\n",
            "Nature mutation                 0.000000\n",
            "Valeur fonciere                 0.915336\n",
            "No voie                        35.686981\n",
            "B/T/Q                          95.316833\n",
            "Type de voie                   38.409037\n",
            "Code voie                       0.767595\n",
            "Voie                            0.772418\n",
            "Code postal                     0.770589\n",
            "Commune                         0.000000\n",
            "Code departement                0.000000\n",
            "Code commune                    0.000000\n",
            "Prefixe de section             95.549758\n",
            "Section                         0.004091\n",
            "No plan                         0.000000\n",
            "No Volume                      99.783828\n",
            "1er lot                        68.971616\n",
            "Surface Carrez du 1er lot      91.121755\n",
            "2eme lot                       90.870043\n",
            "Surface Carrez du 2eme lot     97.137632\n",
            "3eme lot                       98.332862\n",
            "Surface Carrez du 3eme lot     99.675102\n",
            "4eme lot                       99.463753\n",
            "Surface Carrez du 4eme lot     99.919684\n",
            "5eme lot                       99.768743\n",
            "Surface Carrez du 5eme lot     99.971841\n",
            "Nombre de lots                  0.000000\n",
            "Code type local                40.541865\n",
            "Type local                     40.541865\n",
            "Identifiant local             100.000000\n",
            "Surface reelle bati            40.599576\n",
            "Nombre pieces principales      40.599576\n",
            "Nature culture                 31.467036\n",
            "Nature culture speciale        95.846772\n",
            "Surface terrain                31.467036\n",
            "dtype: float64\n",
            "Nature mutation        1.000000\n",
            "Valeur fonciere        0.000000\n",
            "Code voie              0.387254\n",
            "Code postal            0.000000\n",
            "Commune                1.000000\n",
            "Code commune           0.000000\n",
            "Code departement       0.004482\n",
            "Code type local        0.000000\n",
            "Surface reelle bati    0.000000\n",
            "Surface terrain        0.000000\n",
            "dtype: float64\n",
            "<class 'numpy.ndarray'>\n",
            "Mean Squared Error: 103247725256.28\n",
            "R2 score : 0.0998211638949813\n",
            "Mean Squared Error mse : 103247725256.2776\n",
            "Mean Absolute Error MAE  : 243969.31055785692\n"
          ]
        },
        {
          "output_type": "stream",
          "name": "stderr",
          "text": [
            "<ipython-input-10-a96fd5a2bef8>:3: DeprecationWarning: `np.bool` is a deprecated alias for the builtin `bool`. To silence this warning, use `bool` by itself. Doing this will not modify any behavior and is safe. If you specifically wanted the numpy scalar type, use `np.bool_` here.\n",
            "Deprecated in NumPy 1.20; for more details and guidance: https://numpy.org/devdocs/release/1.20.0-notes.html#deprecations\n",
            "  upper = corr_matrix.where(np.triu(np.ones(corr_matrix.shape), k=1).astype(np.bool))\n"
          ]
        },
        {
          "output_type": "display_data",
          "data": {
            "text/plain": [
              "<Figure size 432x288 with 1 Axes>"
            ],
            "image/png": "[encoded data removed]"
          },
          "metadata": {
            "needs_background": "light"
          }
        },
        {
          "output_type": "stream",
          "name": "stdout",
          "text": [
            "Mean Absolute Error: 238932.51\n",
            "Mean Squared Error: 124201741372.81\n",
            "R2 Score: -0.10\n",
            "Mean Absolute Error: 238932.51\n",
            "Mean Squared Error: 124201741372.81\n",
            "R2 Score: -0.10\n",
            "Mean Squared Error: 13653500105467.55\n"
          ]
        },
        {
          "output_type": "stream",
          "name": "stderr",
          "text": [
            "<ipython-input-10-272c6db5c57f>:4: DeprecationWarning: `np.bool` is a deprecated alias for the builtin `bool`. To silence this warning, use `bool` by itself. Doing this will not modify any behavior and is safe. If you specifically wanted the numpy scalar type, use `np.bool_` here.\n",
            "Deprecated in NumPy 1.20; for more details and guidance: https://numpy.org/devdocs/release/1.20.0-notes.html#deprecations\n",
            "  upper = corr_matrix.where(np.triu(np.ones(corr_matrix.shape), k=1).astype(np.bool))\n"
          ]
        },
        {
          "output_type": "stream",
          "name": "stdout",
          "text": [
            "Mean Absolute Error: 1260440.08\n",
            "Mean Squared Error: 15921857069541.69\n",
            "R2 Score: -0.08\n"
          ]
        }
      ],
      "id": "dySOyWND1pjf"
    },
    {
      "cell_type": "markdown",
      "source": [
        "\n",
        "Pour la modélisation, on a choisi la base de donnée df_dvf puisqu'elle comporte plus de données et on a gardé comme variables explicatives : \n",
        "\n",
        "\n",
        "*   Variable numérique: \"surface relle bâti\"\n",
        "*   Variables catégorielles: \"Code postal\", \"code departement\" , \"code commune\", \"code voie\" et \"code voie\"\n",
        "\n",
        "Nous avons utilisé les modèles de régression Lasso, SVM et Random Forest pour prédire les valeurs foncières à partir de différentes variables explicatives relatives à l'emplacement des biens immobiliers. En utilisant les métriques de performance R2, MSE et MAE, nous avons constaté que ces modèles présentaient une performance faible, ce qui signifie qu'ils ne parvenaient pas à expliquer de manière significative la variance des données ou à prédire correctement les valeurs cibles (valeurs foncières).\n",
        "\n",
        "Il y a plusieurs raisons qui peuvent expliquer une telle performance. Tout d'abord, il est possible que les variables explicatives choisies ne soient pas suffisamment corrélées à la variable cible, ce qui rend difficile la prédiction de cette dernière. Dans ce cas, il serait recommandé de sélectionner de nouvelles variables explicatives autres que celles en relation avec l'emplacement géographique du bien et qui soient plus pertinentes permettant une meilleure explication de la variance des données. \n",
        "\n",
        "Il est également possible que le modèle choisi ne soit pas adapté aux données. Chaque modèle a ses propres spécificités et peut être plus ou moins adapté à certaines situations. Dans ce cas, il serait recommandé de tester d'autres modèles et de comparer leurs performances afin de choisir celui qui convient le mieux aux données.\n",
        "\n",
        "Enfin, il peut être nécessaire de collecter de nouvelles données pour entraîner le modèle. Plus le modèle dispose de données, plus il est en mesure d'apprendre et de s'adapter aux données, ce qui peut améliorer sa performance.\n",
        "\n",
        "En résumé, pour améliorer la performance des modèles de régression Lasso, SVM et Random Forest, nous recommandons de sélectionner de nouvelles variables explicatives pertinentes, de tester différents modèles et de collecter de nouvelles données pour entraîner le modèle."
      ],
      "metadata": {
        "id": "DFii_8WF6Dzu"
      },
      "id": "DFii_8WF6Dzu"
    },
    {
      "cell_type": "markdown",
      "id": "ba29c99c-7ded-4682-b83e-0e627610cd4c",
      "metadata": {
        "id": "ba29c99c-7ded-4682-b83e-0e627610cd4c"
      },
      "source": [
        "## Visualisation des prix affichés par arrondissement"
      ]
    },
    {
      "cell_type": "code",
      "execution_count": null,
      "id": "2ae9b095-cefa-4ca9-9e80-c19a0cf59e8e",
      "metadata": {
        "id": "2ae9b095-cefa-4ca9-9e80-c19a0cf59e8e"
      },
      "outputs": [],
      "source": []
    },
    {
      "cell_type": "markdown",
      "id": "15b84836-24d0-4c53-8490-40f92cd28d81",
      "metadata": {
        "id": "15b84836-24d0-4c53-8490-40f92cd28d81"
      },
      "source": [
        "## Conclusion"
      ]
    },
    {
      "cell_type": "markdown",
      "id": "fd129637-cf94-4b13-bccc-559b97d6a7e9",
      "metadata": {
        "id": "fd129637-cf94-4b13-bccc-559b97d6a7e9"
      },
      "source": [
        "On remarque que les prix du foncier à Marseille sont très disparates, et la ville est très inégalitaire."
      ]
    }
  ],
  "metadata": {
    "kernelspec": {
      "display_name": "Python 3 (ipykernel)",
      "language": "python",
      "name": "python3"
    },
    "language_info": {
      "codemirror_mode": {
        "name": "ipython",
        "version": 3
      },
      "file_extension": ".py",
      "mimetype": "text/x-python",
      "name": "python",
      "nbconvert_exporter": "python",
      "pygments_lexer": "ipython3",
      "version": "3.10.4"
    },
    "colab": {
      "provenance": []
    }
  },
  "nbformat": 4,
  "nbformat_minor": 5
}