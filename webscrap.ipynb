{
  "nbformat": 4,
  "nbformat_minor": 0,
  "metadata": {
    "colab": {
      "provenance": []
    },
    "kernelspec": {
      "name": "python3",
      "display_name": "Python 3"
    },
    "language_info": {
      "name": "python"
    }
  },
  "cells": [
    {
      "cell_type": "code",
      "execution_count": 1,
      "metadata": {
        "id": "iqqWnAxSJCax"
      },
      "outputs": [],
      "source": [
        "import urllib\n",
        "import bs4\n",
        "import pandas as pd\n",
        "from urllib import request\n",
        "import numpy as np\n",
        "import csv"
      ]
    },
    {
      "cell_type": "code",
      "source": [
        "url=\"https://immobilier.lefigaro.fr/prix-immobilier/marseille/ville-13055#prix-quartier\""
      ],
      "metadata": {
        "id": "YN_lHfwSJLVL"
      },
      "execution_count": 2,
      "outputs": []
    },
    {
      "cell_type": "code",
      "source": [
        "import requests\n",
        "from bs4 import BeautifulSoup\n",
        "import pandas as pd\n",
        "\n",
        "# Envoi d'une requête HTTP GET à l'URL de la page web\n",
        "response = requests.get(url)\n",
        "\n",
        "# Vérification du code de retour de la requête\n",
        "if response.status_code == 200:\n",
        "    # Récupération du contenu HTML de la page\n",
        "    html_content = response.text\n",
        "    # Création d'un objet BeautifulSoup à partir du contenu HTML\n",
        "    soup = BeautifulSoup(html_content, \"html.parser\")\n",
        "    # Création d'un data frame vide\n",
        "    df = pd.DataFrame()\n",
        "    # Récupération des trois premières tables de la page\n",
        "    tables = soup.find_all(\"table\")[9:]\n",
        "    # Parcours de chaque table\n",
        "    for table in tables:\n",
        "        # Récupération des lignes de la table\n",
        "        rows = table.find_all(\"tr\")\n",
        "        # Parcours de chaque ligne\n",
        "        for row in rows:\n",
        "            # Récupération des cellules de la ligne\n",
        "            cells = row.find_all(\"td\")\n",
        "            # Ajout des cellules au data frame\n",
        "            df = df.append(cells, ignore_index=True)\n",
        "    # Enregistrement du data frame dans un fichier CSV ou Excel\n",
        "    #df.to_csv(\"output.csv\")\n",
        "    #df.to_excel(\"output.xlsx\")\n",
        "else:\n",
        "    print(\"Erreur lors de la récupération de la page\")\n"
      ],
      "metadata": {
        "colab": {
          "base_uri": "https://localhost:8080/"
        },
        "id": "tY5hPWL9LhYj",
        "outputId": "fabfa1bc-d9be-449a-f63b-856c3ea319b7"
      },
      "execution_count": 10,
      "outputs": [
        {
          "output_type": "stream",
          "name": "stderr",
          "text": [
            "/usr/local/lib/python3.8/dist-packages/pandas/core/internals/construction.py:540: VisibleDeprecationWarning: Creating an ndarray from ragged nested sequences (which is a list-or-tuple of lists-or-tuples-or ndarrays with different lengths or shapes) is deprecated. If you meant to do this, you must specify 'dtype=object' when creating the ndarray.\n",
            "  values = np.array([convert(v) for v in values])\n"
          ]
        }
      ]
    },
    {
      "cell_type": "code",
      "source": [
        "print(df)"
      ],
      "metadata": {
        "colab": {
          "base_uri": "https://localhost:8080/"
        },
        "id": "0egDZjBxLm_Q",
        "outputId": "460b4b35-12f6-4659-f801-d2068855717f"
      },
      "execution_count": 11,
      "outputs": [
        {
          "output_type": "stream",
          "name": "stdout",
          "text": [
            "                     0\n",
            "0    Studios / 1 pièce\n",
            "1              23 €/m2\n",
            "2             2 pièces\n",
            "3              17 €/m2\n",
            "4             3 pièces\n",
            "..                 ...\n",
            "117         5 007 €/m2\n",
            "118            20 €/m2\n",
            "119         [[Périer]]\n",
            "120         4 980 €/m2\n",
            "121            20 €/m2\n",
            "\n",
            "[122 rows x 1 columns]\n"
          ]
        }
      ]
    }
  ]
}